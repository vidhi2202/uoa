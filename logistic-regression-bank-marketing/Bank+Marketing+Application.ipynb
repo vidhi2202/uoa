{
 "cells": [
  {
   "cell_type": "markdown",
   "metadata": {
    "id": "O42jhq6meIyV"
   },
   "source": [
    "Dataset link\n",
    "https://drive.google.com/file/d/1GS-8_EpmTliRE02OX8As7kfMm2hxdLbI/view?usp=sharing"
   ]
  },
  {
   "cell_type": "markdown",
   "metadata": {
    "id": "MV3WQiJDiWpn"
   },
   "source": [
    "# Logistic Regression\n",
    "\n",
    "For a more detailed lesson on Logistic Regression see (watch the entire series) https://www.youtube.com/watch?v=zAULhNrnuL4\n",
    "\n",
    "Used to predict categories (as opposed to a numerical values in Linear Regression) and solve classification machine learning problems. \n",
    "\n",
    "Will customer buy a product?\n",
    "Will the team win the game?\n",
    "\n",
    "\n",
    "\n"
   ]
  },
  {
   "cell_type": "markdown",
   "metadata": {
    "id": "Qs2u8cot4V31"
   },
   "source": [
    " ## What are the chances of a customer buying a product based on their gender?"
   ]
  },
  {
   "cell_type": "markdown",
   "metadata": {
    "id": "vd7FUCy_-wvR"
   },
   "source": [
    "# **Bank Marketing Data Set**\n",
    "\n",
    "https://archive.ics.uci.edu/ml/datasets/Bank+Marketing\n",
    "\n",
    "\n",
    "Attribute Information:\n",
    "\n",
    "Input variables:\n",
    "\n",
    "**Bank client data:**\n",
    "\n",
    "1 - age (numeric)\n",
    "\n",
    "2 - job : type of job (categorical: 'admin.','blue-collar','entrepreneur','housemaid','management','retired','self-employed','services','student','technician','unemployed','unknown')\n",
    "\n",
    "3 - marital : marital status (categorical: 'divorced','married','single','unknown'; note: 'divorced' means divorced or widowed)\n",
    "\n",
    "4 - education (categorical: 'basic.4y','basic.6y','basic.9y','high.school','illiterate','professional.course','university.degree','unknown')\n",
    "\n",
    "5 - default: has credit in default? (categorical: 'no','yes','unknown')\n",
    "\n",
    "6 - housing: has housing loan? (categorical: 'no','yes','unknown')\n",
    "\n",
    "7 - loan: has personal loan? (categorical: 'no','yes','unknown')\n",
    "\n",
    "**Related with the last contact of the current campaign:**\n",
    "\n",
    "8 - contact: contact communication type (categorical: 'cellular','telephone')\n",
    "\n",
    "9 - month: last contact month of year (categorical: 'jan', 'feb', 'mar', ..., 'nov', 'dec')\n",
    "\n",
    "10 - day_of_week: last contact day of the week (categorical: 'mon','tue','wed','thu','fri')\n",
    "\n",
    "11 - duration: last contact duration, in seconds (numeric). Important note: this attribute highly affects the output target (e.g., if duration=0 then y='no'). Yet, the duration is not known before a call is performed. Also, after the end of the call y is obviously known. Thus, this input should only be included for benchmark purposes and should be discarded if the intention is to have a realistic predictive model.\n",
    "\n",
    "**Other attributes:**\n",
    "\n",
    "12 - campaign: number of contacts performed during this campaign and for this client (numeric, includes last contact)\n",
    "\n",
    "13 - pdays: number of days that passed by after the client was last contacted from a previous campaign (numeric; 999 means client was not previously contacted)\n",
    "\n",
    "14 - previous: number of contacts performed before this campaign and for this client (numeric)\n",
    "\n",
    "15 - poutcome: outcome of the previous marketing campaign (categorical: 'failure','nonexistent','success')\n",
    "\n",
    "\n",
    "**Social and economic context attributes**\n",
    "\n",
    "16 - emp.var.rate: employment variation rate - quarterly indicator (numeric)\n",
    "\n",
    "17 - cons.price.idx: consumer price index - monthly indicator (numeric)\n",
    "\n",
    "18 - cons.conf.idx: consumer confidence index - monthly indicator (numeric)\n",
    "\n",
    "19 - euribor3m: euribor 3 month rate - daily indicator (numeric)\n",
    "\n",
    "20 - nr.employed: number of employees - quarterly indicator (numeric)\n",
    "\n",
    "Output variable (desired target):\n",
    "\n",
    "21 - y - has the client subscribed a term deposit? (binary: 'yes','no')"
   ]
  },
  {
   "cell_type": "markdown",
   "metadata": {
    "id": "fTZtobBxE1qs"
   },
   "source": [
    "## Exploring and creating a logistic model using banking data:"
   ]
  },
  {
   "cell_type": "code",
   "execution_count": 1,
   "metadata": {
    "colab": {
     "base_uri": "https://localhost:8080/",
     "height": 363
    },
    "id": "BkTaiIAG_xjZ",
    "outputId": "5d205347-16c7-47e5-f2a8-bc35b783ca5a"
   },
   "outputs": [],
   "source": [
    "# Create a DataFrame variable containing the banking data CSV file.\n",
    "\n",
    "import pandas as pd\n",
    "import matplotlib.pyplot as plt\n",
    "import seaborn as sb\n",
    "\n",
    "pd.set_option('display.max_columns', None)\n",
    "bankData = pd.read_csv('banking.csv')\n",
    "\n",
    "# Suppressing Warnings\n",
    "import warnings\n",
    "warnings.filterwarnings('ignore')"
   ]
  },
  {
   "cell_type": "code",
   "execution_count": 2,
   "metadata": {
    "colab": {
     "base_uri": "https://localhost:8080/",
     "height": 1000
    },
    "id": "X164cU9LCEhE",
    "outputId": "139b97f4-7a47-4d21-deac-74d2f0c2e422",
    "scrolled": false
   },
   "outputs": [
    {
     "name": "stdout",
     "output_type": "stream",
     "text": [
      "   age        job  marital    education  default housing loan    contact  \\\n",
      "0   56  housemaid  married     basic.4y       no      no   no  telephone   \n",
      "1   57   services  married  high.school  unknown      no   no  telephone   \n",
      "2   37   services  married  high.school       no     yes   no  telephone   \n",
      "3   40     admin.  married     basic.6y       no      no   no  telephone   \n",
      "4   56   services  married  high.school       no      no  yes  telephone   \n",
      "\n",
      "  month day_of_week  duration  campaign  pdays  previous     poutcome  \\\n",
      "0   may         mon       261         1    999         0  nonexistent   \n",
      "1   may         mon       149         1    999         0  nonexistent   \n",
      "2   may         mon       226         1    999         0  nonexistent   \n",
      "3   may         mon       151         1    999         0  nonexistent   \n",
      "4   may         mon       307         1    999         0  nonexistent   \n",
      "\n",
      "   emp.var.rate  cons.price.idx  cons.conf.idx  euribor3m  nr.employed   y  \n",
      "0           1.1          93.994          -36.4      4.857       5191.0  no  \n",
      "1           1.1          93.994          -36.4      4.857       5191.0  no  \n",
      "2           1.1          93.994          -36.4      4.857       5191.0  no  \n",
      "3           1.1          93.994          -36.4      4.857       5191.0  no  \n",
      "4           1.1          93.994          -36.4      4.857       5191.0  no  \n"
     ]
    }
   ],
   "source": [
    "# Explore the dataset and determine what the dependent variable (target array) is. \n",
    "print(bankData.head())\n"
   ]
  },
  {
   "cell_type": "code",
   "execution_count": 3,
   "metadata": {},
   "outputs": [
    {
     "name": "stdout",
     "output_type": "stream",
     "text": [
      "(41188, 21)\n"
     ]
    }
   ],
   "source": [
    "print(bankData.shape)"
   ]
  },
  {
   "cell_type": "code",
   "execution_count": 4,
   "metadata": {},
   "outputs": [
    {
     "name": "stdout",
     "output_type": "stream",
     "text": [
      "['age' 'job' 'marital' 'education' 'default' 'housing' 'loan' 'contact'\n",
      " 'month' 'day_of_week' 'duration' 'campaign' 'pdays' 'previous' 'poutcome'\n",
      " 'emp.var.rate' 'cons.price.idx' 'cons.conf.idx' 'euribor3m' 'nr.employed'\n",
      " 'y']\n"
     ]
    }
   ],
   "source": [
    "print(bankData.columns.values)"
   ]
  },
  {
   "cell_type": "code",
   "execution_count": 5,
   "metadata": {
    "scrolled": false
   },
   "outputs": [
    {
     "name": "stdout",
     "output_type": "stream",
     "text": [
      "age               0\n",
      "job               0\n",
      "marital           0\n",
      "education         0\n",
      "default           0\n",
      "housing           0\n",
      "loan              0\n",
      "contact           0\n",
      "month             0\n",
      "day_of_week       0\n",
      "duration          0\n",
      "campaign          0\n",
      "pdays             0\n",
      "previous          0\n",
      "poutcome          0\n",
      "emp.var.rate      0\n",
      "cons.price.idx    0\n",
      "cons.conf.idx     0\n",
      "euribor3m         0\n",
      "nr.employed       0\n",
      "y                 0\n",
      "dtype: int64\n"
     ]
    }
   ],
   "source": [
    "print(bankData.isnull().sum())"
   ]
  },
  {
   "cell_type": "markdown",
   "metadata": {},
   "source": [
    "#### Data set has no missing values"
   ]
  },
  {
   "cell_type": "markdown",
   "metadata": {},
   "source": [
    "### Visualizing categorical variables"
   ]
  },
  {
   "cell_type": "code",
   "execution_count": 7,
   "metadata": {
    "id": "OdAuU-thRp_s",
    "scrolled": true
   },
   "outputs": [
    {
     "data": {
      "image/png": "[encoded data removed]",
      "text/plain": [
       "<Figure size 432x288 with 1 Axes>"
      ]
     },
     "metadata": {
      "needs_background": "light"
     },
     "output_type": "display_data"
    }
   ],
   "source": [
    "# Labels against frequency \n",
    "plt.figure()\n",
    "sb.countplot(x='y', data=bankData)\n",
    "\n",
    "plt.show()"
   ]
  },
  {
   "cell_type": "markdown",
   "metadata": {},
   "source": [
    "Dataset is imbalanced "
   ]
  },
  {
   "cell_type": "code",
   "execution_count": 12,
   "metadata": {
    "id": "kI04sSXORp5c"
   },
   "outputs": [
    {
     "data": {
      "image/png": "[encoded data removed]",
      "text/plain": [
       "<Figure size 432x288 with 1 Axes>"
      ]
     },
     "metadata": {
      "needs_background": "light"
     },
     "output_type": "display_data"
    }
   ],
   "source": [
    "# Distribution of Jobs\n",
    "plt.figure()\n",
    "sb.countplot(y='job', data=bankData)\n",
    "\n",
    "plt.show()"
   ]
  },
  {
   "cell_type": "code",
   "execution_count": 10,
   "metadata": {
    "id": "921Ls34_Rpys"
   },
   "outputs": [
    {
     "data": {
      "image/png": "[encoded data removed]",
      "text/plain": [
       "<Figure size 432x288 with 1 Axes>"
      ]
     },
     "metadata": {
      "needs_background": "light"
     },
     "output_type": "display_data"
    }
   ],
   "source": [
    "# Distribution on marital status\n",
    "plt.figure()\n",
    "sb.countplot(x='marital', data=bankData)\n",
    "\n",
    "plt.show()"
   ]
  },
  {
   "cell_type": "code",
   "execution_count": 11,
   "metadata": {},
   "outputs": [],
   "source": [
    "# Create dummy variables for all the categorical variables that you have kept.\n",
    "df2 = pd.get_dummies(bankData, columns=['job', 'marital', 'default', 'housing', 'loan', 'poutcome', 'education','contact'])"
   ]
  },
  {
   "cell_type": "code",
   "execution_count": 12,
   "metadata": {
    "colab": {
     "base_uri": "https://localhost:8080/"
    },
    "id": "4ZWDY4B2CGxh",
    "outputId": "f0ff1b09-cfe3-4741-9f71-d58969e50698",
    "scrolled": false
   },
   "outputs": [
    {
     "name": "stdout",
     "output_type": "stream",
     "text": [
      "<class 'pandas.core.frame.DataFrame'>\n",
      "RangeIndex: 41188 entries, 0 to 41187\n",
      "Data columns (total 51 columns):\n",
      " #   Column                         Non-Null Count  Dtype  \n",
      "---  ------                         --------------  -----  \n",
      " 0   age                            41188 non-null  int64  \n",
      " 1   month                          41188 non-null  object \n",
      " 2   day_of_week                    41188 non-null  object \n",
      " 3   duration                       41188 non-null  int64  \n",
      " 4   campaign                       41188 non-null  int64  \n",
      " 5   pdays                          41188 non-null  int64  \n",
      " 6   previous                       41188 non-null  int64  \n",
      " 7   emp.var.rate                   41188 non-null  float64\n",
      " 8   cons.price.idx                 41188 non-null  float64\n",
      " 9   cons.conf.idx                  41188 non-null  float64\n",
      " 10  euribor3m                      41188 non-null  float64\n",
      " 11  nr.employed                    41188 non-null  float64\n",
      " 12  y                              41188 non-null  object \n",
      " 13  job_admin.                     41188 non-null  uint8  \n",
      " 14  job_blue-collar                41188 non-null  uint8  \n",
      " 15  job_entrepreneur               41188 non-null  uint8  \n",
      " 16  job_housemaid                  41188 non-null  uint8  \n",
      " 17  job_management                 41188 non-null  uint8  \n",
      " 18  job_retired                    41188 non-null  uint8  \n",
      " 19  job_self-employed              41188 non-null  uint8  \n",
      " 20  job_services                   41188 non-null  uint8  \n",
      " 21  job_student                    41188 non-null  uint8  \n",
      " 22  job_technician                 41188 non-null  uint8  \n",
      " 23  job_unemployed                 41188 non-null  uint8  \n",
      " 24  job_unknown                    41188 non-null  uint8  \n",
      " 25  marital_divorced               41188 non-null  uint8  \n",
      " 26  marital_married                41188 non-null  uint8  \n",
      " 27  marital_single                 41188 non-null  uint8  \n",
      " 28  marital_unknown                41188 non-null  uint8  \n",
      " 29  default_no                     41188 non-null  uint8  \n",
      " 30  default_unknown                41188 non-null  uint8  \n",
      " 31  default_yes                    41188 non-null  uint8  \n",
      " 32  housing_no                     41188 non-null  uint8  \n",
      " 33  housing_unknown                41188 non-null  uint8  \n",
      " 34  housing_yes                    41188 non-null  uint8  \n",
      " 35  loan_no                        41188 non-null  uint8  \n",
      " 36  loan_unknown                   41188 non-null  uint8  \n",
      " 37  loan_yes                       41188 non-null  uint8  \n",
      " 38  poutcome_failure               41188 non-null  uint8  \n",
      " 39  poutcome_nonexistent           41188 non-null  uint8  \n",
      " 40  poutcome_success               41188 non-null  uint8  \n",
      " 41  education_basic.4y             41188 non-null  uint8  \n",
      " 42  education_basic.6y             41188 non-null  uint8  \n",
      " 43  education_basic.9y             41188 non-null  uint8  \n",
      " 44  education_high.school          41188 non-null  uint8  \n",
      " 45  education_illiterate           41188 non-null  uint8  \n",
      " 46  education_professional.course  41188 non-null  uint8  \n",
      " 47  education_university.degree    41188 non-null  uint8  \n",
      " 48  education_unknown              41188 non-null  uint8  \n",
      " 49  contact_cellular               41188 non-null  uint8  \n",
      " 50  contact_telephone              41188 non-null  uint8  \n",
      "dtypes: float64(5), int64(5), object(3), uint8(38)\n",
      "memory usage: 5.6+ MB\n"
     ]
    }
   ],
   "source": [
    "# Determine what features to include in the model. Remove the features you won’t include from the dataFrame.\n",
    "df2.info()"
   ]
  },
  {
   "cell_type": "code",
   "execution_count": 13,
   "metadata": {},
   "outputs": [],
   "source": [
    "# Drop one variable from each of the sets of dummy vraibles. No information will be lost.  \n",
    "df2.drop( ['job_unknown', 'marital_unknown' , 'default_unknown', 'housing_unknown', 'loan_unknown' , 'poutcome_nonexistent'\n",
    "          ,'education_unknown','contact_telephone'], axis=1, inplace = True )\n",
    "\n",
    "#Drop variables that do might not have an impact on the output  \n",
    "df2.drop( ['month', 'day_of_week'], axis=1, inplace = True )"
   ]
  },
  {
   "cell_type": "code",
   "execution_count": 14,
   "metadata": {},
   "outputs": [
    {
     "name": "stdout",
     "output_type": "stream",
     "text": [
      "<class 'pandas.core.frame.DataFrame'>\n",
      "RangeIndex: 41188 entries, 0 to 41187\n",
      "Data columns (total 41 columns):\n",
      " #   Column                         Non-Null Count  Dtype  \n",
      "---  ------                         --------------  -----  \n",
      " 0   age                            41188 non-null  int64  \n",
      " 1   duration                       41188 non-null  int64  \n",
      " 2   campaign                       41188 non-null  int64  \n",
      " 3   pdays                          41188 non-null  int64  \n",
      " 4   previous                       41188 non-null  int64  \n",
      " 5   emp.var.rate                   41188 non-null  float64\n",
      " 6   cons.price.idx                 41188 non-null  float64\n",
      " 7   cons.conf.idx                  41188 non-null  float64\n",
      " 8   euribor3m                      41188 non-null  float64\n",
      " 9   nr.employed                    41188 non-null  float64\n",
      " 10  y                              41188 non-null  object \n",
      " 11  job_admin.                     41188 non-null  uint8  \n",
      " 12  job_blue-collar                41188 non-null  uint8  \n",
      " 13  job_entrepreneur               41188 non-null  uint8  \n",
      " 14  job_housemaid                  41188 non-null  uint8  \n",
      " 15  job_management                 41188 non-null  uint8  \n",
      " 16  job_retired                    41188 non-null  uint8  \n",
      " 17  job_self-employed              41188 non-null  uint8  \n",
      " 18  job_services                   41188 non-null  uint8  \n",
      " 19  job_student                    41188 non-null  uint8  \n",
      " 20  job_technician                 41188 non-null  uint8  \n",
      " 21  job_unemployed                 41188 non-null  uint8  \n",
      " 22  marital_divorced               41188 non-null  uint8  \n",
      " 23  marital_married                41188 non-null  uint8  \n",
      " 24  marital_single                 41188 non-null  uint8  \n",
      " 25  default_no                     41188 non-null  uint8  \n",
      " 26  default_yes                    41188 non-null  uint8  \n",
      " 27  housing_no                     41188 non-null  uint8  \n",
      " 28  housing_yes                    41188 non-null  uint8  \n",
      " 29  loan_no                        41188 non-null  uint8  \n",
      " 30  loan_yes                       41188 non-null  uint8  \n",
      " 31  poutcome_failure               41188 non-null  uint8  \n",
      " 32  poutcome_success               41188 non-null  uint8  \n",
      " 33  education_basic.4y             41188 non-null  uint8  \n",
      " 34  education_basic.6y             41188 non-null  uint8  \n",
      " 35  education_basic.9y             41188 non-null  uint8  \n",
      " 36  education_high.school          41188 non-null  uint8  \n",
      " 37  education_illiterate           41188 non-null  uint8  \n",
      " 38  education_professional.course  41188 non-null  uint8  \n",
      " 39  education_university.degree    41188 non-null  uint8  \n",
      " 40  contact_cellular               41188 non-null  uint8  \n",
      "dtypes: float64(5), int64(5), object(1), uint8(30)\n",
      "memory usage: 4.6+ MB\n"
     ]
    }
   ],
   "source": [
    "# check data types of all the variables. \n",
    "df2.info()"
   ]
  },
  {
   "cell_type": "code",
   "execution_count": 15,
   "metadata": {},
   "outputs": [],
   "source": [
    "# converting y from 'yes' and 'no' to 1 and 0\n",
    "df2['y'] = df2.y.map(dict(yes=1, no=0))"
   ]
  },
  {
   "cell_type": "code",
   "execution_count": 16,
   "metadata": {},
   "outputs": [
    {
     "data": {
      "text/plain": [
       "Index(['age', 'duration', 'campaign', 'pdays', 'previous', 'emp.var.rate',\n",
       "       'cons.price.idx', 'cons.conf.idx', 'euribor3m', 'nr.employed', 'y',\n",
       "       'job_admin.', 'job_blue-collar', 'job_entrepreneur', 'job_housemaid',\n",
       "       'job_management', 'job_retired', 'job_self-employed', 'job_services',\n",
       "       'job_student', 'job_technician', 'job_unemployed', 'marital_divorced',\n",
       "       'marital_married', 'marital_single', 'default_no', 'default_yes',\n",
       "       'housing_no', 'housing_yes', 'loan_no', 'loan_yes', 'poutcome_failure',\n",
       "       'poutcome_success', 'education_basic.4y', 'education_basic.6y',\n",
       "       'education_basic.9y', 'education_high.school', 'education_illiterate',\n",
       "       'education_professional.course', 'education_university.degree',\n",
       "       'contact_cellular'],\n",
       "      dtype='object')"
      ]
     },
     "execution_count": 16,
     "metadata": {},
     "output_type": "execute_result"
    }
   ],
   "source": [
    "df2.columns"
   ]
  },
  {
   "cell_type": "markdown",
   "metadata": {},
   "source": [
    "#### Note all the variables are neumerical execpt for y"
   ]
  },
  {
   "cell_type": "code",
   "execution_count": 17,
   "metadata": {
    "colab": {
     "base_uri": "https://localhost:8080/"
    },
    "id": "lxrjBcSKCK38",
    "outputId": "7322dded-18c3-46bf-8f9f-c4679604d720",
    "scrolled": true
   },
   "outputs": [],
   "source": [
    "# Split the data into a training and test set. \n",
    "\n",
    "# All columns are features execpt for y\n",
    "X = df2.loc[:, ['age', 'duration', 'campaign', 'pdays', 'previous', 'emp.var.rate',\n",
    "       'cons.price.idx', 'cons.conf.idx', 'euribor3m', 'nr.employed',\n",
    "       'job_admin.', 'job_blue-collar', 'job_entrepreneur', 'job_housemaid',\n",
    "       'job_management', 'job_retired', 'job_self-employed', 'job_services',\n",
    "       'job_student', 'job_technician', 'job_unemployed', 'marital_divorced',\n",
    "       'marital_married', 'marital_single', 'default_no', 'default_yes',\n",
    "       'housing_no', 'housing_yes', 'loan_no', 'loan_yes', 'poutcome_failure',\n",
    "       'poutcome_success', 'education_basic.4y', 'education_basic.6y',\n",
    "       'education_basic.9y', 'education_high.school', 'education_illiterate',\n",
    "       'education_professional.course', 'education_university.degree',\n",
    "       'contact_cellular']]\n",
    "\n",
    "# y is the target variable\n",
    "y = df2.loc[:, ['y']]"
   ]
  },
  {
   "cell_type": "code",
   "execution_count": 18,
   "metadata": {},
   "outputs": [
    {
     "name": "stdout",
     "output_type": "stream",
     "text": [
      "(28831, 40)\n",
      "(28831, 1)\n",
      "(12357, 40)\n",
      "(12357, 1)\n"
     ]
    }
   ],
   "source": [
    "#import a prebuilt function to split the data\n",
    "from sklearn.model_selection import train_test_split\n",
    "\n",
    "X_train, X_test, y_train, y_test = train_test_split(X, y, test_size=0.3, random_state=0)\n",
    "print(X_train.shape)\n",
    "print(y_train.shape)\n",
    "print(X_test.shape)\n",
    "print(y_test.shape)"
   ]
  },
  {
   "cell_type": "code",
   "execution_count": 19,
   "metadata": {
    "colab": {
     "base_uri": "https://localhost:8080/"
    },
    "id": "ts05WOF0COij",
    "outputId": "91725e82-b21d-462e-d76f-bc4389dc4649"
   },
   "outputs": [
    {
     "data": {
      "text/plain": [
       "LogisticRegression(C=1.0, class_weight=None, dual=False, fit_intercept=True,\n",
       "                   intercept_scaling=1, l1_ratio=None, max_iter=100,\n",
       "                   multi_class='auto', n_jobs=None, penalty='l2',\n",
       "                   random_state=None, solver='lbfgs', tol=0.0001, verbose=0,\n",
       "                   warm_start=False)"
      ]
     },
     "execution_count": 19,
     "metadata": {},
     "output_type": "execute_result"
    }
   ],
   "source": [
    "# Fit your training data to a Logistic Regression Model\n",
    "from sklearn.linear_model import LogisticRegression\n",
    "\n",
    "# diclare the logistic model\n",
    "model = LogisticRegression()\n",
    "\n",
    "# train the model on the data\n",
    "model.fit(X_train, y_train)"
   ]
  },
  {
   "cell_type": "code",
   "execution_count": 20,
   "metadata": {
    "scrolled": true
   },
   "outputs": [
    {
     "data": {
      "text/plain": [
       "array([[ 3.36681685e-03,  4.48562022e-03, -7.03026507e-02,\n",
       "        -1.68222953e-03,  1.76680568e-02, -2.60561800e-01,\n",
       "         1.91184340e-01,  4.33534203e-02, -2.76033640e-01,\n",
       "        -3.42029337e-03,  1.01936882e-02, -2.24273101e-02,\n",
       "        -8.67140719e-04, -3.38207740e-04,  2.25035609e-03,\n",
       "         8.62107704e-03, -3.41854422e-04, -5.59794817e-03,\n",
       "         8.41992440e-03,  1.61874005e-03,  1.46498182e-03,\n",
       "        -2.64274853e-03, -1.44393758e-02,  1.96592230e-02,\n",
       "         2.77328703e-02, -3.21739554e-06, -2.01043579e-03,\n",
       "         5.07868679e-03,  4.76553535e-03, -1.69728434e-03,\n",
       "         7.30231646e-03,  3.19401959e-03, -4.59417031e-03,\n",
       "        -3.91532749e-03, -9.81446191e-03, -2.24170139e-03,\n",
       "         1.34212574e-04,  1.38894505e-03,  1.94208626e-02,\n",
       "         4.03311904e-02]])"
      ]
     },
     "execution_count": 20,
     "metadata": {},
     "output_type": "execute_result"
    }
   ],
   "source": [
    "model.coef_"
   ]
  },
  {
   "cell_type": "code",
   "execution_count": 21,
   "metadata": {},
   "outputs": [
    {
     "data": {
      "text/plain": [
       "(1, 40)"
      ]
     },
     "execution_count": 21,
     "metadata": {},
     "output_type": "execute_result"
    }
   ],
   "source": [
    "model.coef_.shape"
   ]
  },
  {
   "cell_type": "code",
   "execution_count": 22,
   "metadata": {
    "colab": {
     "base_uri": "https://localhost:8080/",
     "height": 347
    },
    "id": "Rn-Paee3CQlr",
    "outputId": "3c0bed6c-ff4a-4c5d-a037-34864f4bebf0",
    "scrolled": true
   },
   "outputs": [
    {
     "name": "stdout",
     "output_type": "stream",
     "text": [
      "0.9112244072185806\n",
      "[[10701   268]\n",
      " [  829   559]]\n"
     ]
    },
    {
     "data": {
      "image/png": "[encoded data removed]",
      "text/plain": [
       "<Figure size 432x288 with 2 Axes>"
      ]
     },
     "metadata": {
      "needs_background": "light"
     },
     "output_type": "display_data"
    }
   ],
   "source": [
    "# Use the testing data to make predictions and determine the accuracy of your predictions.\n",
    "y_pred = model.predict(X_test)\n",
    "\n",
    "from sklearn import metrics\n",
    "print(metrics.accuracy_score(y_test, y_pred))\n",
    "\n",
    "# Plot and print confusion matrix\n",
    "cnf_matrix = metrics.confusion_matrix(y_test, y_pred)\n",
    "print(cnf_matrix)\n",
    "metrics.plot_confusion_matrix(model, X_test, y_test)\n",
    "plt.show()"
   ]
  },
  {
   "cell_type": "code",
   "execution_count": 23,
   "metadata": {},
   "outputs": [
    {
     "data": {
      "text/plain": [
       "DummyClassifier(constant=None, random_state=None, strategy='most_frequent')"
      ]
     },
     "execution_count": 23,
     "metadata": {},
     "output_type": "execute_result"
    }
   ],
   "source": [
    "# Calculating a base line for comparing the model. \n",
    "from sklearn.dummy import DummyClassifier\n",
    "dummy_clf = DummyClassifier(strategy=\"most_frequent\")\n",
    "dummy_clf.fit(X_train, y_train)"
   ]
  },
  {
   "cell_type": "code",
   "execution_count": null,
   "metadata": {},
   "outputs": [],
   "source": []
  },
  {
   "cell_type": "code",
   "execution_count": 25,
   "metadata": {
    "scrolled": true
   },
   "outputs": [
    {
     "name": "stdout",
     "output_type": "stream",
     "text": [
      "[[10969     0]\n",
      " [ 1388     0]]\n"
     ]
    },
    {
     "data": {
      "image/png": "[encoded data removed]",
      "text/plain": [
       "<Figure size 432x288 with 2 Axes>"
      ]
     },
     "metadata": {
      "needs_background": "light"
     },
     "output_type": "display_data"
    }
   ],
   "source": [
    "y_pred = dummy_clf.predict(X_test)\n",
    "\n",
    "# Plot and print confusion matrix\n",
    "cnf_matrix = metrics.confusion_matrix(y_test, y_pred)\n",
    "print(cnf_matrix)\n",
    "metrics.plot_confusion_matrix(dummy_clf, X_test, y_test)\n",
    "plt.show()"
   ]
  },
  {
   "cell_type": "markdown",
   "metadata": {},
   "source": [
    "#### Plot ROC Score"
   ]
  },
  {
   "cell_type": "code",
   "execution_count": 26,
   "metadata": {},
   "outputs": [
    {
     "data": {
      "text/plain": [
       "0.9234378887527674"
      ]
     },
     "execution_count": 26,
     "metadata": {},
     "output_type": "execute_result"
    }
   ],
   "source": [
    "from sklearn.metrics import roc_auc_score\n",
    "roc_auc_score(y_test, model.predict_proba(X_test)[:, 1])"
   ]
  },
  {
   "cell_type": "code",
   "execution_count": 27,
   "metadata": {
    "scrolled": true
   },
   "outputs": [
    {
     "data": {
      "image/png": "[encoded data removed]",
      "text/plain": [
       "<Figure size 432x288 with 1 Axes>"
      ]
     },
     "metadata": {
      "needs_background": "light"
     },
     "output_type": "display_data"
    }
   ],
   "source": [
    "import matplotlib.pyplot as plt\n",
    "metrics.plot_roc_curve(model, X_test, y_test) \n",
    "plt.show()"
   ]
  }
 ],
 "metadata": {
  "colab": {
   "collapsed_sections": [],
   "name": "Copy of Logistic Regression.ipynb",
   "provenance": []
  },
  "kernelspec": {
   "display_name": "Python 3",
   "language": "python",
   "name": "python3"
  },
  "language_info": {
   "codemirror_mode": {
    "name": "ipython",
    "version": 3
   },
   "file_extension": ".py",
   "mimetype": "text/x-python",
   "name": "python",
   "nbconvert_exporter": "python",
   "pygments_lexer": "ipython3",
   "version": "3.7.6"
  }
 },
 "nbformat": 4,
 "nbformat_minor": 1
}
