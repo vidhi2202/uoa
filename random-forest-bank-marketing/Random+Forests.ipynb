{
 "cells": [
  {
   "cell_type": "markdown",
   "id": "038b164d",
   "metadata": {},
   "source": [
    "# Random Forests\n",
    "\n",
    "The dataset can be found in the link - https://drive.google.com/drive/folders/1NxCh4X7u7wVo5aHojxjLNs9wC7B7zJhb?usp=sharing"
   ]
  },
  {
   "cell_type": "code",
   "execution_count": 1,
   "id": "34ad439d",
   "metadata": {},
   "outputs": [],
   "source": [
    "#Importing the libraries\n",
    "import numpy as np\n",
    "import pandas as pd\n",
    "import matplotlib.pyplot as plt\n",
    "import seaborn as sns\n",
    "from sklearn.model_selection import train_test_split\n",
    "import warnings\n",
    "warnings.filterwarnings(\"ignore\")"
   ]
  },
  {
   "cell_type": "code",
   "execution_count": 2,
   "id": "500c8c93",
   "metadata": {},
   "outputs": [
    {
     "data": {
      "text/html": [
       "<div>\n",
       "<style scoped>\n",
       "    .dataframe tbody tr th:only-of-type {\n",
       "        vertical-align: middle;\n",
       "    }\n",
       "\n",
       "    .dataframe tbody tr th {\n",
       "        vertical-align: top;\n",
       "    }\n",
       "\n",
       "    .dataframe thead th {\n",
       "        text-align: right;\n",
       "    }\n",
       "</style>\n",
       "<table border=\"1\" class=\"dataframe\">\n",
       "  <thead>\n",
       "    <tr style=\"text-align: right;\">\n",
       "      <th></th>\n",
       "      <th>bad_loan</th>\n",
       "      <th>loan_request</th>\n",
       "      <th>amt_due_on_mort</th>\n",
       "      <th>value_of_property</th>\n",
       "      <th>years_at_job</th>\n",
       "      <th>num_derog_reports</th>\n",
       "      <th>num_delinq_lines</th>\n",
       "      <th>oldest_cl_age</th>\n",
       "      <th>num_recent_cl</th>\n",
       "      <th>num_of_cl</th>\n",
       "      <th>debt_to_inc_ratio</th>\n",
       "      <th>reason_for_loan_DebtCon</th>\n",
       "      <th>reason_for_loan_HomeImp</th>\n",
       "      <th>occupation_Mgr</th>\n",
       "      <th>occupation_Office</th>\n",
       "      <th>occupation_Other</th>\n",
       "      <th>occupation_ProfExe</th>\n",
       "      <th>occupation_Sales</th>\n",
       "      <th>occupation_Self</th>\n",
       "    </tr>\n",
       "  </thead>\n",
       "  <tbody>\n",
       "    <tr>\n",
       "      <th>0</th>\n",
       "      <td>1.0</td>\n",
       "      <td>-1.563111</td>\n",
       "      <td>-1.092273</td>\n",
       "      <td>-1.119977</td>\n",
       "      <td>0.204896</td>\n",
       "      <td>-0.287802</td>\n",
       "      <td>-0.390777</td>\n",
       "      <td>-1.010801</td>\n",
       "      <td>-0.105982</td>\n",
       "      <td>-1.245799</td>\n",
       "      <td>0.100426</td>\n",
       "      <td>0</td>\n",
       "      <td>1</td>\n",
       "      <td>0</td>\n",
       "      <td>0</td>\n",
       "      <td>1</td>\n",
       "      <td>0</td>\n",
       "      <td>0</td>\n",
       "      <td>0</td>\n",
       "    </tr>\n",
       "    <tr>\n",
       "      <th>1</th>\n",
       "      <td>1.0</td>\n",
       "      <td>-1.545527</td>\n",
       "      <td>-0.083958</td>\n",
       "      <td>-0.611919</td>\n",
       "      <td>-0.263303</td>\n",
       "      <td>-0.287802</td>\n",
       "      <td>1.444855</td>\n",
       "      <td>-0.689082</td>\n",
       "      <td>-0.693180</td>\n",
       "      <td>-0.749574</td>\n",
       "      <td>0.100426</td>\n",
       "      <td>0</td>\n",
       "      <td>1</td>\n",
       "      <td>0</td>\n",
       "      <td>0</td>\n",
       "      <td>1</td>\n",
       "      <td>0</td>\n",
       "      <td>0</td>\n",
       "      <td>0</td>\n",
       "    </tr>\n",
       "    <tr>\n",
       "      <th>2</th>\n",
       "      <td>1.0</td>\n",
       "      <td>-1.527943</td>\n",
       "      <td>-1.374281</td>\n",
       "      <td>-1.506102</td>\n",
       "      <td>-0.664616</td>\n",
       "      <td>-0.287802</td>\n",
       "      <td>-0.390777</td>\n",
       "      <td>-0.365411</td>\n",
       "      <td>-0.105982</td>\n",
       "      <td>-1.146554</td>\n",
       "      <td>0.100426</td>\n",
       "      <td>0</td>\n",
       "      <td>1</td>\n",
       "      <td>0</td>\n",
       "      <td>0</td>\n",
       "      <td>1</td>\n",
       "      <td>0</td>\n",
       "      <td>0</td>\n",
       "      <td>0</td>\n",
       "    </tr>\n",
       "    <tr>\n",
       "      <th>3</th>\n",
       "      <td>0.0</td>\n",
       "      <td>-1.510359</td>\n",
       "      <td>0.549123</td>\n",
       "      <td>0.142169</td>\n",
       "      <td>-0.798387</td>\n",
       "      <td>-0.287802</td>\n",
       "      <td>-0.390777</td>\n",
       "      <td>-1.022905</td>\n",
       "      <td>-0.693180</td>\n",
       "      <td>-0.749574</td>\n",
       "      <td>0.100426</td>\n",
       "      <td>0</td>\n",
       "      <td>1</td>\n",
       "      <td>0</td>\n",
       "      <td>1</td>\n",
       "      <td>0</td>\n",
       "      <td>0</td>\n",
       "      <td>0</td>\n",
       "      <td>0</td>\n",
       "    </tr>\n",
       "    <tr>\n",
       "      <th>4</th>\n",
       "      <td>1.0</td>\n",
       "      <td>-1.510359</td>\n",
       "      <td>-0.985310</td>\n",
       "      <td>-1.097579</td>\n",
       "      <td>0.004239</td>\n",
       "      <td>-0.287802</td>\n",
       "      <td>-0.390777</td>\n",
       "      <td>-0.927646</td>\n",
       "      <td>-0.105982</td>\n",
       "      <td>-1.345045</td>\n",
       "      <td>0.362816</td>\n",
       "      <td>0</td>\n",
       "      <td>1</td>\n",
       "      <td>0</td>\n",
       "      <td>0</td>\n",
       "      <td>1</td>\n",
       "      <td>0</td>\n",
       "      <td>0</td>\n",
       "      <td>0</td>\n",
       "    </tr>\n",
       "  </tbody>\n",
       "</table>\n",
       "</div>"
      ],
      "text/plain": [
       "   bad_loan  loan_request  amt_due_on_mort  value_of_property  years_at_job  \\\n",
       "0       1.0     -1.563111        -1.092273          -1.119977      0.204896   \n",
       "1       1.0     -1.545527        -0.083958          -0.611919     -0.263303   \n",
       "2       1.0     -1.527943        -1.374281          -1.506102     -0.664616   \n",
       "3       0.0     -1.510359         0.549123           0.142169     -0.798387   \n",
       "4       1.0     -1.510359        -0.985310          -1.097579      0.004239   \n",
       "\n",
       "   num_derog_reports  num_delinq_lines  oldest_cl_age  num_recent_cl  \\\n",
       "0          -0.287802         -0.390777      -1.010801      -0.105982   \n",
       "1          -0.287802          1.444855      -0.689082      -0.693180   \n",
       "2          -0.287802         -0.390777      -0.365411      -0.105982   \n",
       "3          -0.287802         -0.390777      -1.022905      -0.693180   \n",
       "4          -0.287802         -0.390777      -0.927646      -0.105982   \n",
       "\n",
       "   num_of_cl  debt_to_inc_ratio  reason_for_loan_DebtCon  \\\n",
       "0  -1.245799           0.100426                        0   \n",
       "1  -0.749574           0.100426                        0   \n",
       "2  -1.146554           0.100426                        0   \n",
       "3  -0.749574           0.100426                        0   \n",
       "4  -1.345045           0.362816                        0   \n",
       "\n",
       "   reason_for_loan_HomeImp  occupation_Mgr  occupation_Office  \\\n",
       "0                        1               0                  0   \n",
       "1                        1               0                  0   \n",
       "2                        1               0                  0   \n",
       "3                        1               0                  1   \n",
       "4                        1               0                  0   \n",
       "\n",
       "   occupation_Other  occupation_ProfExe  occupation_Sales  occupation_Self  \n",
       "0                 1                   0                 0                0  \n",
       "1                 1                   0                 0                0  \n",
       "2                 1                   0                 0                0  \n",
       "3                 0                   0                 0                0  \n",
       "4                 1                   0                 0                0  "
      ]
     },
     "metadata": {},
     "output_type": "display_data"
    }
   ],
   "source": [
    "# read in the data and display the first 5 rows:\n",
    "data = pd.read_csv('hmeq-preprocessed.csv')\n",
    "display(data.head())"
   ]
  },
  {
   "cell_type": "markdown",
   "id": "784886b5",
   "metadata": {},
   "source": [
    "### 1. Get the distribution of the target variable using countplot: `bad_loan`"
   ]
  },
  {
   "cell_type": "code",
   "execution_count": 3,
   "id": "1b1ec049",
   "metadata": {},
   "outputs": [
    {
     "data": {
      "image/png": "[encoded data removed]",
      "text/plain": [
       "<Figure size 432x288 with 1 Axes>"
      ]
     },
     "metadata": {
      "needs_background": "light"
     },
     "output_type": "display_data"
    }
   ],
   "source": [
    "sns.countplot(x='bad_loan', data=data)\n",
    "plt.show()"
   ]
  },
  {
   "cell_type": "code",
   "execution_count": 4,
   "id": "82b689a1",
   "metadata": {},
   "outputs": [
    {
     "name": "stdout",
     "output_type": "stream",
     "text": [
      "(5402, 19)\n",
      "(5402, 18)\n",
      "(5402,)\n"
     ]
    }
   ],
   "source": [
    "# separate target variable from features\n",
    "X = data.iloc[:, 1:]\n",
    "y = data.iloc[:, 0]\n",
    "\n",
    "print(data.shape)\n",
    "print(X.shape)\n",
    "print(y.shape)\n",
    "\n",
    "# partition data into training and testing sets\n",
    "X_train, X_test, y_train, y_test = train_test_split(\n",
    "                                                    X,\n",
    "                                                    y,\n",
    "                                                    test_size=0.3,\n",
    "                                                    stratify=y,\n",
    "                                                    random_state=42\n",
    "                                                    )"
   ]
  },
  {
   "cell_type": "markdown",
   "id": "4341efeb",
   "metadata": {},
   "source": [
    "### 2. Compute the baseline classification accuracy for `X_train`?\n",
    "> - HINT: The [DummyClassifier](#https://scikit-learn.org/stable/modules/generated/sklearn.dummy.DummyClassifier.html) may be helpful.\n",
    "> - Use the `most_frequent` strategy of calculating the baseline accuracy"
   ]
  },
  {
   "cell_type": "code",
   "execution_count": 5,
   "id": "d778815f",
   "metadata": {},
   "outputs": [],
   "source": [
    "#Import Dummy Classifier\n",
    "from sklearn.dummy import DummyClassifier"
   ]
  },
  {
   "cell_type": "code",
   "execution_count": 6,
   "id": "db0e2a79",
   "metadata": {},
   "outputs": [
    {
     "name": "stdout",
     "output_type": "stream",
     "text": [
      "Baseline Accuracy =  0.7988895743368292\n"
     ]
    }
   ],
   "source": [
    "dummy_classifier = DummyClassifier(strategy='most_frequent')\n",
    "dummy_classifier.fit(X_train,y_train)\n",
    "baseline_acc = dummy_classifier.score(X_test,y_test)\n",
    "\n",
    "\n",
    "### For verifying answer:\n",
    "print(\"Baseline Accuracy = \", baseline_acc)"
   ]
  },
  {
   "cell_type": "code",
   "execution_count": 7,
   "id": "9952277d",
   "metadata": {},
   "outputs": [
    {
     "name": "stdout",
     "output_type": "stream",
     "text": [
      "Number of rows should be the same:\n",
      "Number of rows in X_train:   3781\n",
      "Number of rows in bootstrap: 3781\n",
      "      loan_request  amt_due_on_mort  value_of_property  years_at_job  \\\n",
      "4097      0.432675         0.014996           1.425088      0.138011   \n",
      "2256     -0.341022        -0.566999           0.903176      1.475722   \n",
      "5229      2.472422        -0.714049           0.099847      0.138011   \n",
      "4099      0.432675         0.060628           0.113026     -0.263303   \n",
      "3217     -0.006925        -0.225806          -0.290221     -0.129532   \n",
      "...            ...              ...                ...           ...   \n",
      "3071     -0.068469         0.892095           1.360091     -0.129532   \n",
      "3266      0.010659         0.730032           1.189504     -0.397074   \n",
      "1402     -0.639950        -0.371829          -0.541699      0.271782   \n",
      "3416      0.098579         1.991105           1.733364     -0.530845   \n",
      "2656     -0.217933         1.052881           0.428342      0.940637   \n",
      "\n",
      "      num_derog_reports  num_delinq_lines  oldest_cl_age  num_recent_cl  \\\n",
      "4097          -0.287802         -0.390777       2.137361      -0.105982   \n",
      "2256          -0.287802         -0.390777       0.689155      -0.693180   \n",
      "5229          -0.287802         -0.390777       0.305131       0.481215   \n",
      "4099          -0.287802         -0.390777       1.116159       0.481215   \n",
      "3217           2.279840          0.527039      -0.821050       0.481215   \n",
      "...                 ...               ...            ...            ...   \n",
      "3071          -0.287802         -0.390777       0.578726       1.068412   \n",
      "3266          -0.287802         -0.390777       0.419041       1.655609   \n",
      "1402          -0.287802         -0.390777       0.872184      -0.693180   \n",
      "3416           3.563661          6.033936       0.295987       2.242807   \n",
      "2656          -0.287802         -0.390777       0.027336      -0.693180   \n",
      "\n",
      "      num_of_cl  debt_to_inc_ratio  reason_for_loan_DebtCon  \\\n",
      "4097  -0.551084          -0.541348                        1   \n",
      "2256   0.639857           0.100426                        1   \n",
      "5229   1.334573           0.763048                        0   \n",
      "4099   0.739102          -0.615001                        1   \n",
      "3217   1.136082           0.100426                        1   \n",
      "...         ...                ...                      ...   \n",
      "3071   0.143632           0.783684                        1   \n",
      "3266   0.143632           0.882530                        1   \n",
      "1402   0.540612          -0.716491                        1   \n",
      "3416   0.342122           0.100426                        1   \n",
      "2656  -0.451839           0.856649                        1   \n",
      "\n",
      "      reason_for_loan_HomeImp  occupation_Mgr  occupation_Office  \\\n",
      "4097                        0               0                  0   \n",
      "2256                        0               0                  0   \n",
      "5229                        1               0                  0   \n",
      "4099                        0               1                  0   \n",
      "3217                        0               0                  0   \n",
      "...                       ...             ...                ...   \n",
      "3071                        0               0                  1   \n",
      "3266                        0               0                  1   \n",
      "1402                        0               0                  0   \n",
      "3416                        0               0                  0   \n",
      "2656                        0               0                  0   \n",
      "\n",
      "      occupation_Other  occupation_ProfExe  occupation_Sales  occupation_Self  \n",
      "4097                 1                   0                 0                0  \n",
      "2256                 0                   1                 0                0  \n",
      "5229                 0                   0                 0                1  \n",
      "4099                 0                   0                 0                0  \n",
      "3217                 1                   0                 0                0  \n",
      "...                ...                 ...               ...              ...  \n",
      "3071                 0                   0                 0                0  \n",
      "3266                 0                   0                 0                0  \n",
      "1402                 1                   0                 0                0  \n",
      "3416                 0                   1                 0                0  \n",
      "2656                 1                   0                 0                0  \n",
      "\n",
      "[3781 rows x 18 columns]\n"
     ]
    }
   ],
   "source": [
    "def create_bootstrap_sample(df):\n",
    "    return df.sample(n= df.shape[0], replace = True)\n",
    "\n",
    "bootstrap_sample = create_bootstrap_sample(X_train)\n",
    "\n",
    "print('Number of rows should be the same:')\n",
    "print('Number of rows in X_train:  ', X_train.shape[0])\n",
    "print('Number of rows in bootstrap:', create_bootstrap_sample(X_train).shape[0])\n",
    "\n",
    "print(bootstrap_sample)"
   ]
  },
  {
   "cell_type": "markdown",
   "id": "64604143",
   "metadata": {},
   "source": [
    "### Random Forest\n",
    "\n",
    "> \"Random Forests is a substantial modification of bagging that builds a large collection of _de-correlated_ trees, and averages them.\"\n",
    "\n",
    "When constructing a tree within a bagging ensemble, all input features are considered to determine the best split. If the data contains one or two dominant features, those dominant features are always selected first in every tree within the ensemble, resulting in a high correlation among the trees.\n",
    "\n",
    "The Random Forest algorithm further reduces the model error due to variance by de-correlating each tree within the ensemble. This is acheived by considering only a sample of features from the available feature set at each split in the decision tree. This procedure results in a higher diversity of trees within the ensemble, which can reduce the overall variance."
   ]
  },
  {
   "cell_type": "code",
   "execution_count": 8,
   "id": "3e81ece1",
   "metadata": {},
   "outputs": [],
   "source": [
    "from sklearn.metrics import (\n",
    "    classification_report,\n",
    "    recall_score,\n",
    "    precision_score,\n",
    "    accuracy_score\n",
    ")\n",
    "\n",
    "from sklearn.ensemble import RandomForestClassifier\n",
    "model_rf = RandomForestClassifier(n_estimators=10, max_features=7, random_state=42)\n",
    "model_rf.fit(X_train, y_train)\n",
    "predict_rf = model_rf.predict(X_test)\n",
    "recall_rf = recall_score(y_test, predict_rf)\n",
    "precision_rf = precision_score(y_test, predict_rf)"
   ]
  },
  {
   "cell_type": "code",
   "execution_count": 9,
   "id": "49f38051",
   "metadata": {},
   "outputs": [
    {
     "name": "stdout",
     "output_type": "stream",
     "text": [
      "Classification Report:\n",
      "\n",
      "              precision    recall  f1-score   support\n",
      "\n",
      "         0.0       0.91      0.96      0.94      1295\n",
      "         1.0       0.82      0.64      0.72       326\n",
      "\n",
      "    accuracy                           0.90      1621\n",
      "   macro avg       0.86      0.80      0.83      1621\n",
      "weighted avg       0.89      0.90      0.89      1621\n",
      "\n"
     ]
    }
   ],
   "source": [
    "from sklearn.metrics import (\n",
    "    classification_report,\n",
    "    recall_score,\n",
    "    precision_score,\n",
    "    accuracy_score\n",
    ")\n",
    "print('Classification Report:\\n')\n",
    "print(classification_report(y_test, predict_rf))"
   ]
  },
  {
   "cell_type": "code",
   "execution_count": 10,
   "id": "a6e078d8",
   "metadata": {},
   "outputs": [],
   "source": [
    "def print_recall_scores(ensemble, feats, true_labels):\n",
    "    '''\n",
    "    Prints the recall scores for base estimators in a sklearn ensemble model.\n",
    "    '''\n",
    "    scores = []\n",
    "    for model_idx, model in enumerate(ensemble.estimators_):\n",
    "        if model_idx == 0:\n",
    "            print('='*40)\n",
    "        preds = model.predict(feats)\n",
    "        scores.append(recall_score(true_labels, preds))\n",
    "        model_recall = np.round(recall_score(true_labels, preds), 5)\n",
    "        print(f'Recall for Base Model {model_idx+1}:\\t', model_recall)\n",
    "        if model_idx < (len(ensemble.estimators_) - 1):\n",
    "            print('-'*40)\n",
    "        else:\n",
    "            print('='*40)\n",
    "    ensemble_preds = ensemble.predict(feats)\n",
    "    print(\"Mean Recall Score:\\t\\t\", np.round(np.array(scores).mean(), 5))\n",
    "    print(\"Std Deviation:\\t\\t\\t\", np.round(np.array(scores).std(), 5))\n",
    "    print(\"Range:\\t\\t\\t\\t\", np.round(np.array(scores).ptp(), 5))\n",
    "    print(f'Overall Recall for model:\\t {np.round(recall_score(y_test, ensemble_preds), 5)}')"
   ]
  },
  {
   "cell_type": "code",
   "execution_count": 11,
   "id": "670ceb4f",
   "metadata": {},
   "outputs": [],
   "source": [
    "def print_recall_scores(ensemble, feats, true_labels):\n",
    "    '''\n",
    "    Prints the recall scores for base estimators in a sklearn ensemble model.\n",
    "    '''\n",
    "    scores = []\n",
    "    for model_idx, model in enumerate(ensemble.estimators_):\n",
    "        if model_idx == 0:\n",
    "            print('='*40)\n",
    "        preds = model.predict(feats)\n",
    "        scores.append(recall_score(true_labels, preds))\n",
    "        model_recall = np.round(recall_score(true_labels, preds), 5)\n",
    "        print(f'Recall for Base Model {model_idx+1}:\\t', model_recall)\n",
    "        if model_idx < (len(ensemble.estimators_) - 1):\n",
    "            print('-'*40)\n",
    "        else:\n",
    "            print('='*40)\n",
    "    ensemble_preds = ensemble.predict(feats)\n",
    "    print(\"Mean Recall Score:\\t\\t\", np.round(np.array(scores).mean(), 5))\n",
    "    print(\"Std Deviation:\\t\\t\\t\", np.round(np.array(scores).std(), 5))\n",
    "    print(\"Range:\\t\\t\\t\\t\", np.round(np.array(scores).ptp(), 5))\n",
    "    print(f'Overall Recall for model:\\t {np.round(recall_score(y_test, ensemble_preds), 5)}')"
   ]
  },
  {
   "cell_type": "code",
   "execution_count": 12,
   "id": "591362b9",
   "metadata": {},
   "outputs": [
    {
     "name": "stdout",
     "output_type": "stream",
     "text": [
      "========================================\n",
      "Recall for Base Model 1:\t 0.63804\n",
      "----------------------------------------\n",
      "Recall for Base Model 2:\t 0.65031\n",
      "----------------------------------------\n",
      "Recall for Base Model 3:\t 0.64724\n",
      "----------------------------------------\n",
      "Recall for Base Model 4:\t 0.63804\n",
      "----------------------------------------\n",
      "Recall for Base Model 5:\t 0.60123\n",
      "----------------------------------------\n",
      "Recall for Base Model 6:\t 0.6319\n",
      "----------------------------------------\n",
      "Recall for Base Model 7:\t 0.64724\n",
      "----------------------------------------\n",
      "Recall for Base Model 8:\t 0.59509\n",
      "----------------------------------------\n",
      "Recall for Base Model 9:\t 0.68098\n",
      "----------------------------------------\n",
      "Recall for Base Model 10:\t 0.61963\n",
      "========================================\n",
      "Mean Recall Score:\t\t 0.63497\n",
      "Std Deviation:\t\t\t 0.02376\n",
      "Range:\t\t\t\t 0.08589\n",
      "Overall Recall for model:\t 0.63804\n"
     ]
    }
   ],
   "source": [
    "print_recall_scores(model_rf, X_test, y_test)"
   ]
  },
  {
   "cell_type": "markdown",
   "id": "be91bf8e",
   "metadata": {},
   "source": [
    "Next create another `RandomForestClassifier` model using `X_train`, but \n",
    "this time setting the `oob_score` parameter to `True`. You will then compare the \n",
    "oob accuracy score to the accuracy of the model on `X_test`.\n",
    "> - Instantiate and fit a `RandomForestClassifier` model to `X_train`.\n",
    "Use the following constructor arguments: `n_estimators=100`, `max_features=7`, `oob_score=True`, and `random_state=42`"
   ]
  },
  {
   "cell_type": "code",
   "execution_count": 14,
   "id": "b57dadc0",
   "metadata": {},
   "outputs": [
    {
     "name": "stdout",
     "output_type": "stream",
     "text": [
      "OOB Score:\t\t\t 0.9127\n",
      "Testing Accuracy:\t\t 0.9155\n",
      "Acc. Difference:\t\t 0.0028\n"
     ]
    }
   ],
   "source": [
    "from sklearn.ensemble import RandomForestClassifier\n",
    "\n",
    "model_rf_oob = RandomForestClassifier(n_estimators=100, max_features=7, oob_score=True, random_state=42).fit(X_train, y_train)\n",
    "oob_score = round(model_rf_oob.oob_score_,4)\n",
    "acc_oob = round(accuracy_score(y_test, model_rf_oob.predict(X_test)),4)\n",
    "diff_oob = round(abs(oob_score - acc_oob),4)\n",
    "\n",
    "print('OOB Score:\\t\\t\\t', oob_score)\n",
    "print('Testing Accuracy:\\t\\t', acc_oob)\n",
    "print('Acc. Difference:\\t\\t', diff_oob)"
   ]
  },
  {
   "cell_type": "code",
   "execution_count": 15,
   "id": "0d968470",
   "metadata": {},
   "outputs": [
    {
     "name": "stdout",
     "output_type": "stream",
     "text": [
      "<bound method DataFrame.nlargest of                    features  importance\n",
      "0              loan_request    0.075351\n",
      "1           amt_due_on_mort    0.069732\n",
      "2         value_of_property    0.074060\n",
      "3              years_at_job    0.061340\n",
      "4         num_derog_reports    0.076399\n",
      "5          num_delinq_lines    0.099279\n",
      "6             oldest_cl_age    0.102369\n",
      "7             num_recent_cl    0.032601\n",
      "8                 num_of_cl    0.078266\n",
      "9         debt_to_inc_ratio    0.279206\n",
      "10  reason_for_loan_DebtCon    0.006666\n",
      "11  reason_for_loan_HomeImp    0.006930\n",
      "12           occupation_Mgr    0.006902\n",
      "13        occupation_Office    0.007598\n",
      "14         occupation_Other    0.008467\n",
      "15       occupation_ProfExe    0.005364\n",
      "16         occupation_Sales    0.004561\n",
      "17          occupation_Self    0.004909>\n"
     ]
    }
   ],
   "source": [
    "#Feature Importance\n",
    "feature_importances = model_rf.feature_importances_\n",
    "features = X_train.columns\n",
    "df = pd.DataFrame({'features': features, 'importance': feature_importances}).nlargest\n",
    "print(df)"
   ]
  }
 ],
 "metadata": {
  "kernelspec": {
   "display_name": "Python 3 (ipykernel)",
   "language": "python",
   "name": "python3"
  },
  "language_info": {
   "codemirror_mode": {
    "name": "ipython",
    "version": 3
   },
   "file_extension": ".py",
   "mimetype": "text/x-python",
   "name": "python",
   "nbconvert_exporter": "python",
   "pygments_lexer": "ipython3",
   "version": "3.9.7"
  }
 },
 "nbformat": 4,
 "nbformat_minor": 5
}
