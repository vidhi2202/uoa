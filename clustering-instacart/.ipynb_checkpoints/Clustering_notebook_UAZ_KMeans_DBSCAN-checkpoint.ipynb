{
 "cells": [
  {
   "cell_type": "markdown",
   "metadata": {
    "_cell_guid": "bb5342ed-c5f4-4c19-9407-ad2e7c88ec11",
    "_execution_state": "idle",
    "_uuid": "538522bde2adfd2873bc52fe6ff54b494e730986",
    "id": "TxcH2rhzlDFH"
   },
   "source": [
    "###Problem Statement <br>\n",
    "Curious about the food Americans eat? Look no further.\n",
    "\n",
    "**Instacart**, an American company that operates a grocery delivery and pick-up service in the United States and Canada, has publicly provided an open-source anonymized dataset containing over *3 million grocery orders* from more than *200,000 Instacart users*. \n",
    "\n",
    "\n",
    "The dataset is titled:  <a \n",
    "href=\"https://www.kaggle.com/competitions/instacart-market-basket-analysis/data\">\"The Instacart Online Grocery Shopping Dataset 2017\" </a> the data set describes customers' orders over time. <br> We will be using this data set to implement the concepts we have learned as part of the clustering module.\n",
    "As a Data Scientist working on this dataset, you have been asked to complete the following tasks:\n",
    "1. Create clusters for the different types of products that the customers buy \n",
    "2. Infer patterns based on clusters formed to draw business insights\n",
    "<br>\n",
    "Throughout this demo, we will use different clustering algorithms to group the products into clusters with different features. The demo would start with KMeans clustering first, then we'll move on to DBScan. \n",
    "\n",
    "Overview of the broad steps involved:\n",
    " 1. Loading the data set and the required libraries\n",
    " 2. Preparing data for model building\n",
    "  *  Removing Null values from the data\n",
    "  *  Applying standardization to the dataset\n",
    " 4. Feature selection for product clustering\n",
    " 5. Building clustering models\n",
    " 6. Calculating reorder rates for clusters based on different parameters\n",
    " 7. Comparison analysis and summarization\n",
    " "
   ]
  },
  {
   "cell_type": "markdown",
   "metadata": {
    "id": "ABuklYShT3OA"
   },
   "source": [
    "### 1. Loading data set and the required libraries\n"
   ]
  },
  {
   "cell_type": "code",
   "execution_count": 1,
   "metadata": {
    "_cell_guid": "f3b70c03-486d-4c47-a46c-77472a090de2",
    "_execution_state": "idle",
    "_uuid": "570875f4e56cb1074328343353df149b49894722",
    "id": "-TgkVt8NlDFI"
   },
   "outputs": [],
   "source": [
    "### 1. Loading the libraries and required libraries \n",
    "# Importing ML libraries\n",
    "import pandas as pd\n",
    "import numpy as np\n",
    "import matplotlib.pyplot as plt\n",
    "import seaborn as sns\n",
    "\n",
    "#from IPython.display import display\n",
    "%matplotlib inline\n",
    "plt.style.use('ggplot')\n",
    "\n",
    "import sklearn\n",
    "from sklearn.preprocessing import StandardScaler\n",
    "from sklearn.cluster import KMeans\n",
    "from sklearn.metrics import silhouette_score\n",
    "\n",
    "from scipy.cluster.hierarchy import linkage\n",
    "from scipy.cluster.hierarchy import dendrogram\n",
    "from scipy.cluster.hierarchy import cut_tree\n",
    "from sklearn.neighbors import NearestNeighbors\n",
    "from sklearn.cluster import DBSCAN\n",
    "sns.set()"
   ]
  },
  {
   "cell_type": "code",
   "execution_count": 2,
   "metadata": {
    "_cell_guid": "9f634a4f-15e1-4481-aa2a-70fce8eb42b0",
    "_execution_state": "idle",
    "_uuid": "41149ce4e5efad0b973131217e4c087f6108baec",
    "colab": {
     "base_uri": "https://localhost:8080/"
    },
    "id": "Dy41LlBVlDFK",
    "outputId": "1f57ff46-45fe-4207-ce9e-260b14989a6c"
   },
   "outputs": [],
   "source": [
    "# Loading the Instacart datasets into pandas dataframes\n",
    "instacart_df = pd.read_csv('instacart_dataset_clustering2.csv', dtype={'product_name':'object', \n",
    "                                                               'aisle_id':'int16',\n",
    "                                                               'department_id':'int16',\n",
    "                                                               'num_orders':'int32',\n",
    "                                                               'num_reordered':'int64',\n",
    "                                                               'reorder_rate':'float32',\n",
    "                                                               'add_to_cart_mean':'float32',\n",
    "                                                               'order_mean_dow':'float32', \n",
    "                                                               'order_mean_hour_of_day':'float32', #could also be category\n",
    "                                                               'mean_day_gap_in_orders':'float32'})\n",
    "\n"
   ]
  },
  {
   "cell_type": "code",
   "execution_count": 3,
   "metadata": {
    "colab": {
     "base_uri": "https://localhost:8080/",
     "height": 206
    },
    "id": "FROgSPlSlDFM",
    "outputId": "3d6878b0-21bd-4ef2-f8bc-00064f47f795",
    "scrolled": false
   },
   "outputs": [
    {
     "data": {
      "text/html": [
       "<div>\n",
       "<style scoped>\n",
       "    .dataframe tbody tr th:only-of-type {\n",
       "        vertical-align: middle;\n",
       "    }\n",
       "\n",
       "    .dataframe tbody tr th {\n",
       "        vertical-align: top;\n",
       "    }\n",
       "\n",
       "    .dataframe thead th {\n",
       "        text-align: right;\n",
       "    }\n",
       "</style>\n",
       "<table border=\"1\" class=\"dataframe\">\n",
       "  <thead>\n",
       "    <tr style=\"text-align: right;\">\n",
       "      <th></th>\n",
       "      <th>product_name</th>\n",
       "      <th>aisle_id</th>\n",
       "      <th>department_id</th>\n",
       "      <th>num_orders</th>\n",
       "      <th>num_reordered</th>\n",
       "      <th>reorder_rate</th>\n",
       "      <th>add_to_cart_mean</th>\n",
       "      <th>order_mean_dow</th>\n",
       "      <th>order_mean_hour_of_day</th>\n",
       "      <th>mean_day_gap_in_orders</th>\n",
       "    </tr>\n",
       "  </thead>\n",
       "  <tbody>\n",
       "    <tr>\n",
       "      <th>0</th>\n",
       "      <td>Chocolate Sandwich Cookies</td>\n",
       "      <td>61</td>\n",
       "      <td>19</td>\n",
       "      <td>76</td>\n",
       "      <td>49</td>\n",
       "      <td>0.644737</td>\n",
       "      <td>6.921052</td>\n",
       "      <td>3.026316</td>\n",
       "      <td>12.960526</td>\n",
       "      <td>17.120001</td>\n",
       "    </tr>\n",
       "    <tr>\n",
       "      <th>1</th>\n",
       "      <td>Smart Ones Classic Favorites Mini Rigatoni Wit...</td>\n",
       "      <td>38</td>\n",
       "      <td>1</td>\n",
       "      <td>22</td>\n",
       "      <td>14</td>\n",
       "      <td>0.636364</td>\n",
       "      <td>8.954545</td>\n",
       "      <td>2.727273</td>\n",
       "      <td>15.272727</td>\n",
       "      <td>17.270000</td>\n",
       "    </tr>\n",
       "    <tr>\n",
       "      <th>2</th>\n",
       "      <td>Cut Russet Potatoes Steam N' Mash</td>\n",
       "      <td>116</td>\n",
       "      <td>1</td>\n",
       "      <td>13</td>\n",
       "      <td>7</td>\n",
       "      <td>0.538462</td>\n",
       "      <td>9.846154</td>\n",
       "      <td>4.538462</td>\n",
       "      <td>13.461538</td>\n",
       "      <td>15.080000</td>\n",
       "    </tr>\n",
       "    <tr>\n",
       "      <th>3</th>\n",
       "      <td>Sparkling Orange Juice &amp; Prickly Pear Beverage</td>\n",
       "      <td>115</td>\n",
       "      <td>7</td>\n",
       "      <td>119</td>\n",
       "      <td>70</td>\n",
       "      <td>0.588235</td>\n",
       "      <td>8.285714</td>\n",
       "      <td>2.865546</td>\n",
       "      <td>14.218488</td>\n",
       "      <td>16.059999</td>\n",
       "    </tr>\n",
       "    <tr>\n",
       "      <th>4</th>\n",
       "      <td>Chocolate Fudge Layer Cake</td>\n",
       "      <td>119</td>\n",
       "      <td>1</td>\n",
       "      <td>13</td>\n",
       "      <td>6</td>\n",
       "      <td>0.461538</td>\n",
       "      <td>10.615385</td>\n",
       "      <td>3.538461</td>\n",
       "      <td>14.692307</td>\n",
       "      <td>13.540000</td>\n",
       "    </tr>\n",
       "  </tbody>\n",
       "</table>\n",
       "</div>"
      ],
      "text/plain": [
       "                                        product_name  aisle_id  department_id  \\\n",
       "0                         Chocolate Sandwich Cookies        61             19   \n",
       "1  Smart Ones Classic Favorites Mini Rigatoni Wit...        38              1   \n",
       "2                  Cut Russet Potatoes Steam N' Mash       116              1   \n",
       "3     Sparkling Orange Juice & Prickly Pear Beverage       115              7   \n",
       "4                         Chocolate Fudge Layer Cake       119              1   \n",
       "\n",
       "   num_orders  num_reordered  reorder_rate  add_to_cart_mean  order_mean_dow  \\\n",
       "0          76             49      0.644737          6.921052        3.026316   \n",
       "1          22             14      0.636364          8.954545        2.727273   \n",
       "2          13              7      0.538462          9.846154        4.538462   \n",
       "3         119             70      0.588235          8.285714        2.865546   \n",
       "4          13              6      0.461538         10.615385        3.538461   \n",
       "\n",
       "   order_mean_hour_of_day  mean_day_gap_in_orders  \n",
       "0               12.960526               17.120001  \n",
       "1               15.272727               17.270000  \n",
       "2               13.461538               15.080000  \n",
       "3               14.218488               16.059999  \n",
       "4               14.692307               13.540000  "
      ]
     },
     "execution_count": 3,
     "metadata": {},
     "output_type": "execute_result"
    }
   ],
   "source": [
    "#Let's explore the data and the associated columns.\n",
    "instacart_df.head()"
   ]
  },
  {
   "cell_type": "code",
   "execution_count": 4,
   "metadata": {
    "colab": {
     "base_uri": "https://localhost:8080/"
    },
    "id": "bhwyW_MaWjOB",
    "outputId": "9fa27a95-2c43-40c9-f680-099c9c42953f"
   },
   "outputs": [
    {
     "name": "stdout",
     "output_type": "stream",
     "text": [
      "<class 'pandas.core.frame.DataFrame'>\n",
      "RangeIndex: 13377 entries, 0 to 13376\n",
      "Data columns (total 10 columns):\n",
      " #   Column                  Non-Null Count  Dtype  \n",
      "---  ------                  --------------  -----  \n",
      " 0   product_name            13377 non-null  object \n",
      " 1   aisle_id                13377 non-null  int16  \n",
      " 2   department_id           13377 non-null  int16  \n",
      " 3   num_orders              13377 non-null  int32  \n",
      " 4   num_reordered           13377 non-null  int64  \n",
      " 5   reorder_rate            13377 non-null  float32\n",
      " 6   add_to_cart_mean        13377 non-null  float32\n",
      " 7   order_mean_dow          13377 non-null  float32\n",
      " 8   order_mean_hour_of_day  13377 non-null  float32\n",
      " 9   mean_day_gap_in_orders  13377 non-null  float32\n",
      "dtypes: float32(5), int16(2), int32(1), int64(1), object(1)\n",
      "memory usage: 574.9+ KB\n"
     ]
    }
   ],
   "source": [
    "#Checking for null values\n",
    "instacart_df.info()"
   ]
  },
  {
   "cell_type": "code",
   "execution_count": 5,
   "metadata": {
    "colab": {
     "base_uri": "https://localhost:8080/"
    },
    "id": "L_6VapROlDFN",
    "outputId": "cf804980-fe47-4996-e02e-0f2a7d9ef026"
   },
   "outputs": [
    {
     "data": {
      "text/plain": [
       "(134, 21)"
      ]
     },
     "execution_count": 5,
     "metadata": {},
     "output_type": "execute_result"
    }
   ],
   "source": [
    "# Aisle and department are categorical variables. Let us check the numbers of categories they have\n",
    "instacart_df['aisle_id'].nunique(), instacart_df['department_id'].nunique()"
   ]
  },
  {
   "cell_type": "markdown",
   "metadata": {
    "id": "1py84yQbkzRe"
   },
   "source": [
    "aisle_id column has 134 categories, and the department_id column has 21. When forming clusters, categorical variables with a low number of values could help the algorithm deliver better results by adding another dimension. But since, in this case, the number of categories is high, it won't add value to the clustering quality by the algorithm.\n",
    "\n",
    "Let's see how the Python sees these data points:"
   ]
  },
  {
   "cell_type": "code",
   "execution_count": 6,
   "metadata": {
    "colab": {
     "base_uri": "https://localhost:8080/",
     "height": 300
    },
    "id": "Qal6sF-XlDFN",
    "outputId": "26e16816-2ce2-40cc-b223-6f32bdcfb23d"
   },
   "outputs": [
    {
     "data": {
      "text/html": [
       "<div>\n",
       "<style scoped>\n",
       "    .dataframe tbody tr th:only-of-type {\n",
       "        vertical-align: middle;\n",
       "    }\n",
       "\n",
       "    .dataframe tbody tr th {\n",
       "        vertical-align: top;\n",
       "    }\n",
       "\n",
       "    .dataframe thead th {\n",
       "        text-align: right;\n",
       "    }\n",
       "</style>\n",
       "<table border=\"1\" class=\"dataframe\">\n",
       "  <thead>\n",
       "    <tr style=\"text-align: right;\">\n",
       "      <th></th>\n",
       "      <th>aisle_id</th>\n",
       "      <th>department_id</th>\n",
       "      <th>num_orders</th>\n",
       "      <th>num_reordered</th>\n",
       "      <th>reorder_rate</th>\n",
       "      <th>add_to_cart_mean</th>\n",
       "      <th>order_mean_dow</th>\n",
       "      <th>order_mean_hour_of_day</th>\n",
       "      <th>mean_day_gap_in_orders</th>\n",
       "    </tr>\n",
       "  </thead>\n",
       "  <tbody>\n",
       "    <tr>\n",
       "      <th>count</th>\n",
       "      <td>13377.000000</td>\n",
       "      <td>13377.000000</td>\n",
       "      <td>13377.000000</td>\n",
       "      <td>13377.000000</td>\n",
       "      <td>13377.000000</td>\n",
       "      <td>13377.000000</td>\n",
       "      <td>13377.000000</td>\n",
       "      <td>13377.000000</td>\n",
       "      <td>13377.000000</td>\n",
       "    </tr>\n",
       "    <tr>\n",
       "      <th>mean</th>\n",
       "      <td>70.670255</td>\n",
       "      <td>11.396651</td>\n",
       "      <td>96.935113</td>\n",
       "      <td>59.192794</td>\n",
       "      <td>0.514981</td>\n",
       "      <td>9.283605</td>\n",
       "      <td>2.762032</td>\n",
       "      <td>13.604961</td>\n",
       "      <td>17.284002</td>\n",
       "    </tr>\n",
       "    <tr>\n",
       "      <th>std</th>\n",
       "      <td>38.380694</td>\n",
       "      <td>6.267054</td>\n",
       "      <td>372.921094</td>\n",
       "      <td>290.603486</td>\n",
       "      <td>0.175569</td>\n",
       "      <td>2.232181</td>\n",
       "      <td>0.444832</td>\n",
       "      <td>0.865993</td>\n",
       "      <td>2.429650</td>\n",
       "    </tr>\n",
       "    <tr>\n",
       "      <th>min</th>\n",
       "      <td>1.000000</td>\n",
       "      <td>1.000000</td>\n",
       "      <td>11.000000</td>\n",
       "      <td>0.000000</td>\n",
       "      <td>0.000000</td>\n",
       "      <td>2.125000</td>\n",
       "      <td>0.636364</td>\n",
       "      <td>8.714286</td>\n",
       "      <td>6.363000</td>\n",
       "    </tr>\n",
       "    <tr>\n",
       "      <th>25%</th>\n",
       "      <td>37.000000</td>\n",
       "      <td>6.000000</td>\n",
       "      <td>17.000000</td>\n",
       "      <td>8.000000</td>\n",
       "      <td>0.400000</td>\n",
       "      <td>7.900000</td>\n",
       "      <td>2.500000</td>\n",
       "      <td>13.125000</td>\n",
       "      <td>15.810000</td>\n",
       "    </tr>\n",
       "    <tr>\n",
       "      <th>50%</th>\n",
       "      <td>77.000000</td>\n",
       "      <td>13.000000</td>\n",
       "      <td>31.000000</td>\n",
       "      <td>15.000000</td>\n",
       "      <td>0.533333</td>\n",
       "      <td>9.327868</td>\n",
       "      <td>2.745763</td>\n",
       "      <td>13.591837</td>\n",
       "      <td>17.219999</td>\n",
       "    </tr>\n",
       "    <tr>\n",
       "      <th>75%</th>\n",
       "      <td>106.000000</td>\n",
       "      <td>16.000000</td>\n",
       "      <td>72.000000</td>\n",
       "      <td>39.000000</td>\n",
       "      <td>0.642857</td>\n",
       "      <td>10.646153</td>\n",
       "      <td>3.000000</td>\n",
       "      <td>14.086957</td>\n",
       "      <td>18.750000</td>\n",
       "    </tr>\n",
       "    <tr>\n",
       "      <th>max</th>\n",
       "      <td>134.000000</td>\n",
       "      <td>21.000000</td>\n",
       "      <td>18726.000000</td>\n",
       "      <td>16557.000000</td>\n",
       "      <td>1.000000</td>\n",
       "      <td>19.590910</td>\n",
       "      <td>5.000000</td>\n",
       "      <td>17.562500</td>\n",
       "      <td>29.230000</td>\n",
       "    </tr>\n",
       "  </tbody>\n",
       "</table>\n",
       "</div>"
      ],
      "text/plain": [
       "           aisle_id  department_id    num_orders  num_reordered  reorder_rate  \\\n",
       "count  13377.000000   13377.000000  13377.000000   13377.000000  13377.000000   \n",
       "mean      70.670255      11.396651     96.935113      59.192794      0.514981   \n",
       "std       38.380694       6.267054    372.921094     290.603486      0.175569   \n",
       "min        1.000000       1.000000     11.000000       0.000000      0.000000   \n",
       "25%       37.000000       6.000000     17.000000       8.000000      0.400000   \n",
       "50%       77.000000      13.000000     31.000000      15.000000      0.533333   \n",
       "75%      106.000000      16.000000     72.000000      39.000000      0.642857   \n",
       "max      134.000000      21.000000  18726.000000   16557.000000      1.000000   \n",
       "\n",
       "       add_to_cart_mean  order_mean_dow  order_mean_hour_of_day  \\\n",
       "count      13377.000000    13377.000000            13377.000000   \n",
       "mean           9.283605        2.762032               13.604961   \n",
       "std            2.232181        0.444832                0.865993   \n",
       "min            2.125000        0.636364                8.714286   \n",
       "25%            7.900000        2.500000               13.125000   \n",
       "50%            9.327868        2.745763               13.591837   \n",
       "75%           10.646153        3.000000               14.086957   \n",
       "max           19.590910        5.000000               17.562500   \n",
       "\n",
       "       mean_day_gap_in_orders  \n",
       "count            13377.000000  \n",
       "mean                17.284002  \n",
       "std                  2.429650  \n",
       "min                  6.363000  \n",
       "25%                 15.810000  \n",
       "50%                 17.219999  \n",
       "75%                 18.750000  \n",
       "max                 29.230000  "
      ]
     },
     "execution_count": 6,
     "metadata": {},
     "output_type": "execute_result"
    }
   ],
   "source": [
    "#Using the describe function to check data distribution of the dataset\n",
    "instacart_df.describe()"
   ]
  },
  {
   "cell_type": "markdown",
   "metadata": {
    "id": "pPk8qc1TKN8A"
   },
   "source": [
    "Some of the interesting insights from the data distribution pattern are as follows: \n",
    "\n",
    "*   order_mean_dow indicates that the initial days of the week have low traction.\n",
    "*   order_mean_hour_of_day shows that the majority of orders start coming in post noon.\n",
    "\n",
    "\n"
   ]
  },
  {
   "cell_type": "markdown",
   "metadata": {
    "_cell_guid": "eb906a37-a3e7-41a1-bf05-0a466ee109c6",
    "_execution_state": "idle",
    "_uuid": "c33e060ad063914366898b9e54368efae17bf504",
    "id": "6YjfFq7BlDFQ"
   },
   "source": [
    "### 2. Preparing the data for Clustering\n",
    "\n",
    "1.  Dropping irrelevant columns"
   ]
  },
  {
   "cell_type": "code",
   "execution_count": 7,
   "metadata": {
    "_cell_guid": "90c4293a-0b57-4c44-8129-d07efd53a945",
    "_execution_state": "idle",
    "_uuid": "ba3acc143726c66758c106c23799e230b2d66493",
    "id": "M5NGgb4dlDFR"
   },
   "outputs": [],
   "source": [
    "#Let us first drop unnecessary columns for our use case.\n",
    "temp = instacart_df[instacart_df.columns.difference(['product_name', 'department_id', 'aisle_id'])]\n",
    "#These columns are dropped as these features are irrelevant to our use case."
   ]
  },
  {
   "cell_type": "code",
   "execution_count": 8,
   "metadata": {
    "colab": {
     "base_uri": "https://localhost:8080/",
     "height": 206
    },
    "id": "U2YW8lY_lDFl",
    "outputId": "6da2f0e9-a87e-49d9-d451-1a448f576380",
    "scrolled": true
   },
   "outputs": [
    {
     "data": {
      "text/html": [
       "<div>\n",
       "<style scoped>\n",
       "    .dataframe tbody tr th:only-of-type {\n",
       "        vertical-align: middle;\n",
       "    }\n",
       "\n",
       "    .dataframe tbody tr th {\n",
       "        vertical-align: top;\n",
       "    }\n",
       "\n",
       "    .dataframe thead th {\n",
       "        text-align: right;\n",
       "    }\n",
       "</style>\n",
       "<table border=\"1\" class=\"dataframe\">\n",
       "  <thead>\n",
       "    <tr style=\"text-align: right;\">\n",
       "      <th></th>\n",
       "      <th>add_to_cart_mean</th>\n",
       "      <th>mean_day_gap_in_orders</th>\n",
       "      <th>num_orders</th>\n",
       "      <th>num_reordered</th>\n",
       "      <th>order_mean_dow</th>\n",
       "      <th>order_mean_hour_of_day</th>\n",
       "      <th>reorder_rate</th>\n",
       "    </tr>\n",
       "  </thead>\n",
       "  <tbody>\n",
       "    <tr>\n",
       "      <th>0</th>\n",
       "      <td>6.921052</td>\n",
       "      <td>17.120001</td>\n",
       "      <td>76</td>\n",
       "      <td>49</td>\n",
       "      <td>3.026316</td>\n",
       "      <td>12.960526</td>\n",
       "      <td>0.644737</td>\n",
       "    </tr>\n",
       "    <tr>\n",
       "      <th>1</th>\n",
       "      <td>8.954545</td>\n",
       "      <td>17.270000</td>\n",
       "      <td>22</td>\n",
       "      <td>14</td>\n",
       "      <td>2.727273</td>\n",
       "      <td>15.272727</td>\n",
       "      <td>0.636364</td>\n",
       "    </tr>\n",
       "    <tr>\n",
       "      <th>2</th>\n",
       "      <td>9.846154</td>\n",
       "      <td>15.080000</td>\n",
       "      <td>13</td>\n",
       "      <td>7</td>\n",
       "      <td>4.538462</td>\n",
       "      <td>13.461538</td>\n",
       "      <td>0.538462</td>\n",
       "    </tr>\n",
       "    <tr>\n",
       "      <th>3</th>\n",
       "      <td>8.285714</td>\n",
       "      <td>16.059999</td>\n",
       "      <td>119</td>\n",
       "      <td>70</td>\n",
       "      <td>2.865546</td>\n",
       "      <td>14.218488</td>\n",
       "      <td>0.588235</td>\n",
       "    </tr>\n",
       "    <tr>\n",
       "      <th>4</th>\n",
       "      <td>10.615385</td>\n",
       "      <td>13.540000</td>\n",
       "      <td>13</td>\n",
       "      <td>6</td>\n",
       "      <td>3.538461</td>\n",
       "      <td>14.692307</td>\n",
       "      <td>0.461538</td>\n",
       "    </tr>\n",
       "  </tbody>\n",
       "</table>\n",
       "</div>"
      ],
      "text/plain": [
       "   add_to_cart_mean  mean_day_gap_in_orders  num_orders  num_reordered  \\\n",
       "0          6.921052               17.120001          76             49   \n",
       "1          8.954545               17.270000          22             14   \n",
       "2          9.846154               15.080000          13              7   \n",
       "3          8.285714               16.059999         119             70   \n",
       "4         10.615385               13.540000          13              6   \n",
       "\n",
       "   order_mean_dow  order_mean_hour_of_day  reorder_rate  \n",
       "0        3.026316               12.960526      0.644737  \n",
       "1        2.727273               15.272727      0.636364  \n",
       "2        4.538462               13.461538      0.538462  \n",
       "3        2.865546               14.218488      0.588235  \n",
       "4        3.538461               14.692307      0.461538  "
      ]
     },
     "execution_count": 8,
     "metadata": {},
     "output_type": "execute_result"
    }
   ],
   "source": [
    "#Let us now look at the updated dataset.\n",
    "temp.head()"
   ]
  },
  {
   "cell_type": "markdown",
   "metadata": {
    "id": "yvF3nHc65CrJ"
   },
   "source": [
    "2.  ####   Scaling with StandardScaler \n",
    "\n",
    "As we learned before, scaling is essential for clustering algorithms. We'll be using *standardization* as the scaling method in this demo."
   ]
  },
  {
   "cell_type": "code",
   "execution_count": 9,
   "metadata": {
    "_cell_guid": "93e2f6ea-c90f-43c6-ae6d-0d2056cb8fbb",
    "_execution_state": "idle",
    "_uuid": "d414647a58ef2ab82d8b9ae3adcc7097139c4d71",
    "id": "PvSSsL-NlDFm",
    "scrolled": true
   },
   "outputs": [],
   "source": [
    "#Scaling the values using the sklearn standard scaler\n",
    "from sklearn.preprocessing import StandardScaler\n",
    "scaler = StandardScaler()         \n",
    "temp_scaled = scaler.fit_transform(temp)\n"
   ]
  },
  {
   "cell_type": "code",
   "execution_count": 10,
   "metadata": {
    "colab": {
     "base_uri": "https://localhost:8080/"
    },
    "id": "gghlP_E3lDFn",
    "outputId": "83900b3b-907e-408d-e035-a3f26cafcfa9",
    "scrolled": true
   },
   "outputs": [
    {
     "data": {
      "text/plain": [
       "array([[-1.05845095, -0.06750906, -0.05614028, -0.03507589,  0.59414367,\n",
       "        -0.74422618,  0.73908156],\n",
       "       [-0.14742791, -0.0057699 , -0.20094844, -0.15551941, -0.0781442 ,\n",
       "         1.92587649,  0.69138824],\n",
       "       [ 0.25202106, -0.90716411, -0.22508314, -0.17960812,  3.99364684,\n",
       "        -0.16566344,  0.13374316],\n",
       "       [-0.44707019, -0.50380078,  0.05916992,  0.03719023,  0.23271277,\n",
       "         0.70845307,  0.41725189],\n",
       "       [ 0.59664343, -1.54102106, -0.22508314, -0.18304936,  1.74551472,\n",
       "         1.25561466, -0.30440686]])"
      ]
     },
     "execution_count": 10,
     "metadata": {},
     "output_type": "execute_result"
    }
   ],
   "source": [
    "#Let us now print the values after standardization.\n",
    "temp_scaled[:5]"
   ]
  },
  {
   "cell_type": "markdown",
   "metadata": {
    "_cell_guid": "eb906a37-a3e7-41a1-bf05-0a466ee109c6",
    "_execution_state": "idle",
    "_uuid": "c33e060ad063914366898b9e54368efae17bf504",
    "id": "GjbhcRVDlDFu"
   },
   "source": [
    "### 3. Building Clustering Models - Part I\n",
    "\n",
    "####1.   K-Means Clustering:\n",
    "\n",
    "  * Step 1: Find the optimal number of clusters\n",
    "\n",
    "---\n",
    "\n",
    "\n",
    "\n"
   ]
  },
  {
   "cell_type": "markdown",
   "metadata": {
    "id": "pbD16KfqlDFz"
   },
   "source": [
    "*   Finding the Optimal Number of Clusters\n",
    "  1.   WCSS Method -  in this method, we identify an elbow by plotting the sum of squared distances from each point to its cluster center (centroid).\n",
    "\n"
   ]
  },
  {
   "cell_type": "code",
   "execution_count": 11,
   "metadata": {
    "colab": {
     "base_uri": "https://localhost:8080/",
     "height": 285
    },
    "id": "qB37ElNAXqvy",
    "outputId": "d2536ef5-bdbb-4c3e-c770-6b9aa5adc6aa"
   },
   "outputs": [
    {
     "data": {
      "image/png": "[encoded data removed]",
      "text/plain": [
       "<Figure size 432x288 with 1 Axes>"
      ]
     },
     "metadata": {},
     "output_type": "display_data"
    }
   ],
   "source": [
    "# elbow-curve/WCSS\n",
    "ssd = []\n",
    "range_n_clusters = range(1, 15)\n",
    "for num_clusters in range_n_clusters:\n",
    "    kmeans = KMeans(n_clusters=num_clusters, max_iter=50,random_state=0)\n",
    "    kmeans.fit(temp_scaled)\n",
    "    \n",
    "    ssd.append(kmeans.inertia_)\n",
    "    \n",
    "# Plot the SSDs for each n_clusters\n",
    "plt.plot(range_n_clusters, ssd)\n",
    "plt.xlabel(\"Value of k\")\n",
    "plt.ylabel(\"WCSS\")\n",
    "plt.show()"
   ]
  },
  {
   "cell_type": "markdown",
   "metadata": {
    "id": "1cOTrI8qtjhO"
   },
   "source": [
    "Considering the plot above for WCSS vs. K values, determining the elbow point is not easy or obvious.\n",
    "\n",
    "Let's now try the Silhouette Analysis method to find the optimal value of K."
   ]
  },
  {
   "cell_type": "markdown",
   "metadata": {
    "id": "4DHJMpdJlDF2"
   },
   "source": [
    "*   Finding the Optimal Number of Clusters\n",
    "  2.   Silhouette Analysis Method\n",
    "\n",
    "The Silhouette coefficient score for a data point is computed using the below formula:\n",
    "$$\\text{silhouette score}=\\frac{p-q}{max(p,q)}$$\n",
    "\n",
    "$p$ is the mean distance to the points in the nearest cluster that the data point is not a part of\n",
    "\n",
    "$q$ is the mean intra-cluster distance to all the data point's cluster points.\n",
    "\n",
    "* The value of the Silhouette score range lies between -1 to 1. \n",
    "\n",
    "* A score closer to 1 indicates that the data point is very similar to other data points in its cluster, \n",
    "\n",
    "* A score closer to -1 indicates that the data point is not similar to the data points in its cluster."
   ]
  },
  {
   "cell_type": "code",
   "execution_count": 12,
   "metadata": {
    "colab": {
     "base_uri": "https://localhost:8080/"
    },
    "id": "7605O7pQlDF2",
    "outputId": "f8c8be28-ce9e-4612-a20c-3ffef9f50a3f"
   },
   "outputs": [
    {
     "name": "stdout",
     "output_type": "stream",
     "text": [
      "[0.8057103833679096, 0.1562771808987962, 0.13592384675085306, 0.13937343218969492, 0.13727966165369135, 0.1377586062522358, 0.13081776520646732, 0.1325742481471285, 0.12622218191100673, 0.12635588295064293, 0.1237393047795103, 0.12812518800640824, 0.12218092285186632]\n"
     ]
    }
   ],
   "source": [
    "# Silhouette score analysis\n",
    "temp1 = []\n",
    "range_n_clusters = range(2, 15)\n",
    "for num_clusters in range_n_clusters:\n",
    "    kmeans = KMeans(n_clusters=num_clusters, max_iter=50, random_state=0)\n",
    "    kmeans.fit(temp_scaled)\n",
    "   \n",
    "    temp1.append(silhouette_score(temp_scaled, kmeans.labels_))\n",
    "print(temp1)\n"
   ]
  },
  {
   "cell_type": "code",
   "execution_count": 13,
   "metadata": {
    "colab": {
     "base_uri": "https://localhost:8080/",
     "height": 268
    },
    "id": "Qa-ahRCIdZ5A",
    "outputId": "0eaad5a2-2e39-45af-fefa-736549488e7f"
   },
   "outputs": [
    {
     "data": {
      "image/png": "[encoded data removed]",
      "text/plain": [
       "<Figure size 432x288 with 1 Axes>"
      ]
     },
     "metadata": {},
     "output_type": "display_data"
    }
   ],
   "source": [
    "#Visualizing variation in the Silhouette score\n",
    "plt.plot(temp1, linestyle = 'dotted')\n",
    "default_x_ticks = range(len(range_n_clusters))\n",
    "plt.xticks(default_x_ticks, range_n_clusters)\n",
    "plt.show()"
   ]
  },
  {
   "cell_type": "markdown",
   "metadata": {
    "id": "o6WtVWU8ia4i"
   },
   "source": [
    "Silhouette score quickly drops at K=3 and stabilizes around K = 5.\n",
    "\n",
    "Let us visualize the Silhouette scores with SilhoetteVisualizer to better understand the distribution of Silhouette scores for different values of K in the neighborhood of the elbow point value of 3."
   ]
  },
  {
   "cell_type": "code",
   "execution_count": 14,
   "metadata": {
    "colab": {
     "base_uri": "https://localhost:8080/",
     "height": 483
    },
    "id": "Ou_qkIwwjfBu",
    "outputId": "ea7912fb-80d2-4a6b-d844-a2083867ba5e"
   },
   "outputs": [
    {
     "ename": "ModuleNotFoundError",
     "evalue": "No module named 'yellowbrick'",
     "output_type": "error",
     "traceback": [
      "\u001b[1;31m---------------------------------------------------------------------------\u001b[0m",
      "\u001b[1;31mModuleNotFoundError\u001b[0m                       Traceback (most recent call last)",
      "\u001b[1;32m~\\AppData\\Local\\Temp/ipykernel_17304/966610180.py\u001b[0m in \u001b[0;36m<module>\u001b[1;34m\u001b[0m\n\u001b[1;32m----> 1\u001b[1;33m \u001b[1;32mfrom\u001b[0m \u001b[0myellowbrick\u001b[0m\u001b[1;33m.\u001b[0m\u001b[0mcluster\u001b[0m \u001b[1;32mimport\u001b[0m \u001b[0mSilhouetteVisualizer\u001b[0m\u001b[1;33m\u001b[0m\u001b[1;33m\u001b[0m\u001b[0m\n\u001b[0m\u001b[0;32m      2\u001b[0m \u001b[1;33m\u001b[0m\u001b[0m\n\u001b[0;32m      3\u001b[0m \u001b[0mfig\u001b[0m\u001b[1;33m,\u001b[0m \u001b[0max\u001b[0m \u001b[1;33m=\u001b[0m \u001b[0mplt\u001b[0m\u001b[1;33m.\u001b[0m\u001b[0msubplots\u001b[0m\u001b[1;33m(\u001b[0m\u001b[1;36m3\u001b[0m\u001b[1;33m,\u001b[0m \u001b[1;36m2\u001b[0m\u001b[1;33m,\u001b[0m \u001b[0mfigsize\u001b[0m\u001b[1;33m=\u001b[0m\u001b[1;33m(\u001b[0m\u001b[1;36m15\u001b[0m\u001b[1;33m,\u001b[0m\u001b[1;36m8\u001b[0m\u001b[1;33m)\u001b[0m\u001b[1;33m)\u001b[0m\u001b[1;33m\u001b[0m\u001b[1;33m\u001b[0m\u001b[0m\n\u001b[0;32m      4\u001b[0m \u001b[1;32mfor\u001b[0m \u001b[0mi\u001b[0m \u001b[1;32min\u001b[0m \u001b[1;33m[\u001b[0m\u001b[1;36m2\u001b[0m\u001b[1;33m,\u001b[0m \u001b[1;36m3\u001b[0m\u001b[1;33m,\u001b[0m \u001b[1;36m4\u001b[0m\u001b[1;33m,\u001b[0m \u001b[1;36m5\u001b[0m\u001b[1;33m,\u001b[0m\u001b[1;36m6\u001b[0m\u001b[1;33m,\u001b[0m\u001b[1;36m7\u001b[0m\u001b[1;33m]\u001b[0m\u001b[1;33m:\u001b[0m\u001b[1;33m\u001b[0m\u001b[1;33m\u001b[0m\u001b[0m\n\u001b[0;32m      5\u001b[0m     '''\n",
      "\u001b[1;31mModuleNotFoundError\u001b[0m: No module named 'yellowbrick'"
     ]
    }
   ],
   "source": [
    "from yellowbrick.cluster import SilhouetteVisualizer\n",
    " \n",
    "fig, ax = plt.subplots(3, 2, figsize=(15,8))\n",
    "for i in [2, 3, 4, 5,6,7]:\n",
    "    '''\n",
    "    Create K-Means instance for different number of clusters\n",
    "    '''\n",
    "    km = KMeans(n_clusters=i, init='k-means++', n_init=10, max_iter=100, random_state=0)\n",
    "    q, mod = divmod(i, 2)\n",
    "    '''\n",
    "    Create SilhouetteVisualizer instance with K-Means instance\n",
    "    Fit the visualizer\n",
    "    '''\n",
    "    visualizer = SilhouetteVisualizer(km, colors='yellowbrick', ax=ax[q-1][mod])\n",
    "    visualizer.fit(temp_scaled)\n",
    "    #add title and legends"
   ]
  },
  {
   "cell_type": "markdown",
   "metadata": {
    "id": "eihQyqdT0W6L"
   },
   "source": [
    "K = 5 gives us a nice uniform distribution with all clusters having above-average Silhouette scores, so let's proceed with that."
   ]
  },
  {
   "cell_type": "code",
   "execution_count": null,
   "metadata": {
    "colab": {
     "base_uri": "https://localhost:8080/"
    },
    "id": "yZV0zYtUlDF4",
    "outputId": "358723b7-2e67-4fe3-d455-05f7525cbd7f"
   },
   "outputs": [],
   "source": [
    "# Final K-Means model with k=5\n",
    "kmeans = KMeans(n_clusters=5, max_iter=50, random_state=0)\n",
    "kmeans.fit(temp_scaled)"
   ]
  },
  {
   "cell_type": "code",
   "execution_count": null,
   "metadata": {
    "colab": {
     "base_uri": "https://localhost:8080/",
     "height": 250
    },
    "id": "cg8N470rlDGC",
    "outputId": "360625e7-b6a9-48df-f930-d7946e56f2f1"
   },
   "outputs": [],
   "source": [
    "# Assigning the label to data points\n",
    "instacart_df['cluster_id'] = kmeans.labels_\n",
    "instacart_df.head()"
   ]
  },
  {
   "cell_type": "code",
   "execution_count": null,
   "metadata": {
    "colab": {
     "base_uri": "https://localhost:8080/",
     "height": 380
    },
    "id": "9wHrQNK9lDGD",
    "outputId": "7e756bd6-12d3-4e92-bf1e-d21c236b2082",
    "scrolled": true
   },
   "outputs": [],
   "source": [
    "# As the first step, let's plot the parameter of interest (reorder_rate) with different cluster ids and see if we can find a pattern.\n",
    "sns.boxplot(x='cluster_id', y='reorder_rate', data=instacart_df)"
   ]
  },
  {
   "cell_type": "markdown",
   "metadata": {
    "id": "VLSzA0OTlDGE"
   },
   "source": [
    "#### Analyzing mean values for different columns to detect patterns based on cluster formation"
   ]
  },
  {
   "cell_type": "code",
   "execution_count": null,
   "metadata": {
    "colab": {
     "base_uri": "https://localhost:8080/",
     "height": 237
    },
    "id": "PNRqCKSd8LwN",
    "outputId": "bb75288d-20ec-4425-89fd-6269411e349c"
   },
   "outputs": [],
   "source": [
    "(instacart_df.groupby('cluster_id')\n",
    ".agg(num_products_in_cluster = ('num_orders','count'),\n",
    "     mean_num_orders = ('num_orders','mean'),\n",
    "     mean_num_reordered = ('num_reordered','mean'),\n",
    "     mean_reorder_rate = ('reorder_rate','mean'),\n",
    "     mean_add_to_cart_mean = ('add_to_cart_mean','mean'),\n",
    "     mean_order_mean_dow = ('order_mean_dow','mean'),\n",
    "     mean_order_mean_hour_of_day = ('order_mean_hour_of_day','mean'),\n",
    "     mean_mean_day_gap_in_orders = ('mean_day_gap_in_orders','mean')\n",
    "     ))\n",
    "\n",
    "# [['num_orders','num_reordered','reorder_rate','add_to_cart_mean','order_mean_dow','order_mean_hour_of_day','mean_day_gap_in_orders']].mean().reset_index()\n",
    "# .merge(instacart_df['cluster_id_random'].value_counts().reset_index().rename(columns = {'index':'cluster_id_random','cluster_id_random':'num_products_in_cluster'})))"
   ]
  },
  {
   "cell_type": "markdown",
   "metadata": {
    "id": "NyMLEqZr_-oQ"
   },
   "source": [
    "Some observable insights based on the clusterwise data distribution are:\n",
    "\n",
    "\n",
    "* Cluster **1** has the highest number of orders, along with the highest reorder rate; this group also has a very small number of products\n",
    "* Cluster **3** also has a relatively high number of orders and reorder rate, but it has a small portfolio of products\n",
    "* Cluster **4** has a high product count with relatively low demand and reorder rate\n",
    "* Clusters **0** and **2** have the least number of orders. This is coupled with a relatively low reorder rate, although the number of products is relatively high\n",
    "* Apart from 'number of products', 'total number of orders placed', and 'the reorder rate', other variables do not show significant variation for the different clusters."
   ]
  },
  {
   "cell_type": "markdown",
   "metadata": {
    "id": "xOXRCEg3lDGF"
   },
   "source": [
    "#### Experimenting with other modes of Centroid Initialization\n"
   ]
  },
  {
   "cell_type": "code",
   "execution_count": null,
   "metadata": {
    "colab": {
     "base_uri": "https://localhost:8080/"
    },
    "id": "O4elMqQllDGF",
    "outputId": "7763e285-e491-4421-a438-5c68758eeed0"
   },
   "outputs": [],
   "source": [
    "# By default, the K-means algorithm applies the K-means++ centroid initialization technique to the algorithm to get better initial cluster centers.\n",
    "# Now, let us check what happens when we choose random cluster center initialization\n",
    "\n",
    "kmeansrm = KMeans(n_clusters=5, max_iter=50, init='random', random_state=0)\n",
    "kmeansrm.fit(temp_scaled)"
   ]
  },
  {
   "cell_type": "code",
   "execution_count": null,
   "metadata": {
    "id": "eawf7GwalDGG"
   },
   "outputs": [],
   "source": [
    "#Taking the labels assigned after clustering for all the data points\n",
    "ymeansrm = kmeansrm.labels_"
   ]
  },
  {
   "cell_type": "code",
   "execution_count": null,
   "metadata": {
    "id": "pgKHPmTalDGG"
   },
   "outputs": [],
   "source": [
    "labelsrm, countsrm = np.unique(ymeansrm, return_counts=True)\n"
   ]
  },
  {
   "cell_type": "code",
   "execution_count": null,
   "metadata": {
    "id": "9zxaXxONlDGH"
   },
   "outputs": [],
   "source": [
    "instacart_df['cluster_id_random'] = ymeansrm"
   ]
  },
  {
   "cell_type": "code",
   "execution_count": null,
   "metadata": {
    "colab": {
     "base_uri": "https://localhost:8080/",
     "height": 302
    },
    "id": "0_Zy4JaHlDGH",
    "outputId": "4ea1e186-16f9-4e56-9361-818201aeedee"
   },
   "outputs": [],
   "source": [
    "instacart_df.head()"
   ]
  },
  {
   "cell_type": "code",
   "execution_count": null,
   "metadata": {
    "colab": {
     "base_uri": "https://localhost:8080/",
     "height": 282
    },
    "id": "EHs7rQSR2M6A",
    "outputId": "6647c898-8215-4b76-f2d9-d65b2bfcfbd6"
   },
   "outputs": [],
   "source": [
    "#Printing the mean value for all the variables with random centroid initialization\n",
    "(instacart_df.groupby('cluster_id_random')\n",
    ".agg(num_products_in_cluster = ('num_orders','count'),\n",
    "     mean_num_orders = ('num_orders','mean'),\n",
    "     mean_num_reordered = ('num_reordered','mean'),\n",
    "     mean_reorder_rate = ('reorder_rate','mean'),\n",
    "     mean_add_to_cart_mean = ('add_to_cart_mean','mean'),\n",
    "     mean_order_mean_dow = ('order_mean_dow','mean'),\n",
    "     mean_order_mean_hour_of_day = ('order_mean_hour_of_day','mean'),\n",
    "     mean_mean_day_gap_in_orders = ('mean_day_gap_in_orders','mean')\n",
    "     ))\n",
    "\n",
    "# [['num_orders','num_reordered','reorder_rate','add_to_cart_mean','order_mean_dow','order_mean_hour_of_day','mean_day_gap_in_orders']].mean().reset_index()\n",
    "# .merge(instacart_df['cluster_id_random'].value_counts().reset_index().rename(columns = {'index':'cluster_id_random','cluster_id_random':'num_products_in_cluster'})))"
   ]
  },
  {
   "cell_type": "markdown",
   "metadata": {
    "id": "XNh1Dk9phjxO"
   },
   "source": [
    "####**Summary**\n",
    "Via the random initialization method, we observe that clusters formed have similar mean values for the variables. \n",
    "\n",
    "*   Cluster 2 has a very small product portfolio but a much higher order and reorder counts.  \n",
    "*   Clusters 0, 3, and 4 have comparable product counts, number of orders, and reorder rates.\n",
    "*   Cluster 1 has the second-highest reorder rate with a slightly elevated number of orders and a large product count.\n",
    "\n",
    "In conclusion, both K-Means++ and Random Initialization give us valuable insights. We can try different initialization methods and then use results from the one that makes the most sense for our business case. \n",
    "\n",
    "Also, we can enhance this analysis by including other factors such as acquisition cost, shipping cost, weight, supply chain factors, etc., to make richer observations and use them to inform our business decisions."
   ]
  },
  {
   "cell_type": "markdown",
   "metadata": {
    "_cell_guid": "72eca071-e723-403f-9f76-5ae0eb52fc21",
    "_execution_state": "idle",
    "_uuid": "f808be62bab98f32e16a461e470fca7085ed44ce",
    "id": "uZ4meQZulDGK"
   },
   "source": [
    "####**Evaluation**:\n",
    "Analysis of results of both tables using K-Means++ and random initialization methods show that other than 2 attributes, namely num_orders and reorder_rate, other remaining attribute values do not change an appreciable amount.  This suggests that they do not contribute to cluster formation quality.\n",
    "\n",
    "For much larger datasets, computational effort to determine clusters might be significant. We can address this issue by reducing the number of attributes which we employ for the clustering algorithm.\n",
    "\n",
    "Accordingly, we can try a simpler model to see whether reducing complexity by using smaller number of attributes helps us achieve results comparable to those obtained using a larger number of attributes."
   ]
  },
  {
   "cell_type": "markdown",
   "metadata": {
    "id": "My6QkoVOlDGL"
   },
   "source": [
    "Let us now try a more focused approach by keeping only significant variables for the algorithm, namely 'num_orders' and 'reorder_rate'"
   ]
  },
  {
   "cell_type": "code",
   "execution_count": null,
   "metadata": {
    "id": "TeqnXP2JlDGL"
   },
   "outputs": [],
   "source": [
    "focussed_data = instacart_df[['num_orders', 'reorder_rate']].copy()\n",
    "#Let's scale these values for our clustering algorithm, we'll call this data frame 'scaled_df1'.\n",
    "scaled_df1 = scaler.fit_transform(focussed_data[['num_orders', 'reorder_rate']])"
   ]
  },
  {
   "cell_type": "code",
   "execution_count": null,
   "metadata": {
    "colab": {
     "base_uri": "https://localhost:8080/"
    },
    "id": "MKfXEJQolDGM",
    "outputId": "ceebd3b1-6c30-4421-8d05-3136d34a8cb1"
   },
   "outputs": [],
   "source": [
    "#Printing values after scaling\n",
    "scaled_df1[:5]"
   ]
  },
  {
   "cell_type": "markdown",
   "metadata": {
    "_cell_guid": "eb906a37-a3e7-41a1-bf05-0a466ee109c6",
    "_execution_state": "idle",
    "_uuid": "c33e060ad063914366898b9e54368efae17bf504",
    "id": "4Ld8l8vPlDGM"
   },
   "source": [
    "####Applying K-Means on the focused dataframe\n",
    "For this, we'll reapply the steps of model building:"
   ]
  },
  {
   "cell_type": "markdown",
   "metadata": {
    "id": "NSLRU2eblDGN"
   },
   "source": [
    "Step 1: Finding the Optimal Number of Clusters\n",
    "  1.  WCSS Method\n",
    "\n",
    "\n"
   ]
  },
  {
   "cell_type": "code",
   "execution_count": null,
   "metadata": {
    "colab": {
     "base_uri": "https://localhost:8080/",
     "height": 361
    },
    "id": "xQ5XNEiLlDGY",
    "outputId": "4f64b140-abf9-4b6e-c226-dbbab0b70045"
   },
   "outputs": [],
   "source": [
    "# elbow-curve/WCSS\n",
    "ssd = []\n",
    "range_n_clusters = range(1, 15)\n",
    "for num_clusters in range_n_clusters:\n",
    "    kmeansv2 = KMeans(n_clusters=num_clusters, max_iter=50, init='k-means++', random_state=0)\n",
    "    kmeansv2.fit(scaled_df1)\n",
    "    \n",
    "    ssd.append(kmeansv2.inertia_)\n",
    "    \n",
    "# Plot the SSDs for each n_clusters\n",
    "# ssd\n",
    "plt.plot(range_n_clusters, ssd)\n",
    "plt.xlabel(\"Value of k\")\n",
    "plt.ylabel(\"WCSS\")\n",
    "plt.show()"
   ]
  },
  {
   "cell_type": "markdown",
   "metadata": {
    "id": "zNrot7QXlDGa"
   },
   "source": [
    "2.   Silhouette Score analysis method:\n",
    "\n"
   ]
  },
  {
   "cell_type": "code",
   "execution_count": null,
   "metadata": {
    "colab": {
     "base_uri": "https://localhost:8080/",
     "height": 347
    },
    "id": "C8YD0LqylDGb",
    "outputId": "a7b0faee-0bad-46b2-b004-e2ad59963742"
   },
   "outputs": [],
   "source": [
    "# silhouette analysis\n",
    "range_n_clusters = range(2,15)\n",
    "temp2=[]\n",
    "\n",
    "for num_clusters in range_n_clusters:\n",
    "    \n",
    "    # intialise K-Means\n",
    "    kmeansv2 = KMeans(n_clusters=num_clusters, max_iter=50, init='k-means++', random_state=0)\n",
    "    kmeansv2.fit(scaled_df1)\n",
    "    \n",
    "    cluster_labels_v2 = kmeansv2.labels_\n",
    "    \n",
    "    # silhouette score\n",
    "    silhouette_avg = silhouette_score(scaled_df1, cluster_labels_v2)\n",
    "    temp2.append(silhouette_score(scaled_df1, kmeansv2.labels_))\n",
    "\n",
    "    #print(\"For n_clusters={0}, the silhouette score is {1}\".format(num_clusters, silhouette_avg))\n",
    "\n",
    "#Visualizing variation in the Silhouette score:\n",
    "    \n",
    "plt.plot(temp2, linestyle = 'dotted')\n",
    "default_x_ticks = range(len(range_n_clusters))\n",
    "plt.xticks(default_x_ticks, range_n_clusters)\n",
    "plt.show()"
   ]
  },
  {
   "cell_type": "code",
   "execution_count": null,
   "metadata": {
    "colab": {
     "base_uri": "https://localhost:8080/"
    },
    "id": "TsC8IrDnlDGc",
    "outputId": "48d31f56-077b-4000-cfa8-dfeeb914c04e"
   },
   "outputs": [],
   "source": [
    "# Final model with k=4\n",
    "kmeansv2 = KMeans(n_clusters=4, max_iter=50, init='k-means++', random_state=0)\n",
    "kmeansv2.fit(scaled_df1)"
   ]
  },
  {
   "cell_type": "code",
   "execution_count": null,
   "metadata": {
    "colab": {
     "base_uri": "https://localhost:8080/",
     "height": 496
    },
    "id": "bcI24J3jlDGd",
    "outputId": "766b41b1-89ef-41b9-bd7e-606b0b2cbf31"
   },
   "outputs": [],
   "source": [
    "instacart_df['cluster_id_v2'] = kmeansv2.labels_\n",
    "instacart_df.head()"
   ]
  },
  {
   "cell_type": "code",
   "execution_count": null,
   "metadata": {
    "colab": {
     "base_uri": "https://localhost:8080/",
     "height": 380
    },
    "id": "WrIOtzQolDGe",
    "outputId": "96d21d37-2c91-4664-d472-664062faa0c9"
   },
   "outputs": [],
   "source": [
    "# Plotting the boxplot for reorder_rate for the clusters formed\n",
    "sns.boxplot(x='cluster_id_v2', y='reorder_rate', data=instacart_df)"
   ]
  },
  {
   "cell_type": "markdown",
   "metadata": {
    "id": "7VWFce94lDGh"
   },
   "source": [
    "#### Let us now check the mean value of different columns with the updated cluster labels."
   ]
  },
  {
   "cell_type": "code",
   "execution_count": null,
   "metadata": {
    "id": "F7x-KIP3lDGi"
   },
   "outputs": [],
   "source": [
    "labels, counts = np.unique(kmeansv2.labels_, return_counts=True)\n"
   ]
  },
  {
   "cell_type": "code",
   "execution_count": null,
   "metadata": {
    "colab": {
     "base_uri": "https://localhost:8080/",
     "height": 206
    },
    "id": "O9C4GMtflDGi",
    "outputId": "15c9027c-4c23-4f71-8864-f4cd22728453",
    "scrolled": true
   },
   "outputs": [],
   "source": [
    "(instacart_df.groupby('cluster_id_v2')\n",
    ".agg(num_products_in_cluster = ('num_orders','count'),\n",
    "     mean_num_orders = ('num_orders','mean'),\n",
    "     mean_num_reordered = ('num_reordered','mean'),\n",
    "     mean_reorder_rate = ('reorder_rate','mean'),\n",
    "     mean_add_to_cart_mean = ('add_to_cart_mean','mean'),\n",
    "     mean_order_mean_dow = ('order_mean_dow','mean'),\n",
    "     mean_order_mean_hour_of_day = ('order_mean_hour_of_day','mean'),\n",
    "     mean_mean_day_gap_in_orders = ('mean_day_gap_in_orders','mean')\n",
    "     ))\n"
   ]
  },
  {
   "cell_type": "markdown",
   "metadata": {
    "id": "J5C2LUgGlDGj"
   },
   "source": [
    "#### Let us now check how the clusters look like visually"
   ]
  },
  {
   "cell_type": "code",
   "execution_count": null,
   "metadata": {
    "colab": {
     "base_uri": "https://localhost:8080/"
    },
    "id": "qv-TgM1GlDGj",
    "outputId": "a0b91c2f-6b39-4ecb-bc52-26240cee68e0",
    "scrolled": true
   },
   "outputs": [],
   "source": [
    "labels = np.unique(kmeansv2.labels_)\n",
    "labels"
   ]
  },
  {
   "cell_type": "code",
   "execution_count": null,
   "metadata": {
    "id": "0eX98RLmlDGk"
   },
   "outputs": [],
   "source": [
    "y_kmeansv2 = kmeansv2.fit_predict(scaled_df1)"
   ]
  },
  {
   "cell_type": "code",
   "execution_count": null,
   "metadata": {
    "colab": {
     "base_uri": "https://localhost:8080/"
    },
    "id": "viD5CtAilDGk",
    "outputId": "4974b191-0fa3-42ba-fae2-ce4e4d03bb9f"
   },
   "outputs": [],
   "source": [
    "y_kmeansv2[:5]"
   ]
  },
  {
   "cell_type": "code",
   "execution_count": null,
   "metadata": {
    "id": "b2WF2AyTlDGl"
   },
   "outputs": [],
   "source": [
    "X = pd.DataFrame(scaled_df1)\n"
   ]
  },
  {
   "cell_type": "code",
   "execution_count": null,
   "metadata": {
    "colab": {
     "base_uri": "https://localhost:8080/"
    },
    "id": "6LsJMjZjIXzl",
    "outputId": "5aa0a603-fae1-40e1-c281-5c63fdd9492d"
   },
   "outputs": [],
   "source": [
    "kmeansv2.cluster_centers_"
   ]
  },
  {
   "cell_type": "code",
   "execution_count": null,
   "metadata": {
    "id": "q50yoLcelDGl"
   },
   "outputs": [],
   "source": [
    "# for i in labels:\n",
    "#     plt.scatter(df[label == i , 0] , df[label == i , 1] , label = i)\n",
    "# plt.legend()\n",
    "# plt.show()"
   ]
  },
  {
   "cell_type": "code",
   "execution_count": null,
   "metadata": {
    "colab": {
     "base_uri": "https://localhost:8080/",
     "height": 892
    },
    "id": "gO2ehu6dlDGm",
    "outputId": "0864e7f5-cf44-499c-affd-4232158bd561"
   },
   "outputs": [],
   "source": [
    "plt.figure(figsize =(10, 15))\n",
    "\n",
    "plt.scatter(X[kmeansv2.labels_== 0][0], X[kmeansv2.labels_== 0][1], s=5, c='red', label ='Cluster 0')\n",
    "plt.scatter(X[kmeansv2.labels_== 1][0], X[kmeansv2.labels_== 1][1], s=5, c='blue', label ='Cluster 1')\n",
    "plt.scatter(X[kmeansv2.labels_== 2][0], X[kmeansv2.labels_== 2][1], s=5, c='green', label ='Cluster 2')\n",
    "plt.scatter(X[kmeansv2.labels_== 3][0], X[kmeansv2.labels_== 3][1], s=5, c='cyan', label ='Cluster 3')\n",
    "\n",
    "plt.scatter(kmeansv2.cluster_centers_[:, 0], kmeansv2.cluster_centers_[:, 1], s=10, c='black', label = 'Centroids')\n",
    "plt.title('Clusters of Num_orders vs Reorder Rate')\n",
    "plt.xlabel('Num_orders')\n",
    "plt.ylabel('Reorder Rate')\n",
    "plt.legend()\n",
    "plt.show()\n"
   ]
  },
  {
   "cell_type": "markdown",
   "metadata": {
    "id": "IUftiZn0lDGm"
   },
   "source": [
    "Summarizing the results we got via the K-Means algorithm: "
   ]
  },
  {
   "cell_type": "code",
   "execution_count": null,
   "metadata": {
    "colab": {
     "base_uri": "https://localhost:8080/",
     "height": 206
    },
    "id": "Mfhnqk5UlDGp",
    "outputId": "b3009940-cbab-48fa-c3a6-1f3cd5d657b1"
   },
   "outputs": [],
   "source": [
    "#Printed again for reference\n",
    "(instacart_df.groupby('cluster_id_v2')\n",
    ".agg(num_products_in_cluster = ('num_orders','count'),\n",
    "     mean_num_orders = ('num_orders','mean'),\n",
    "     mean_num_reordered = ('num_reordered','mean'),\n",
    "     mean_reorder_rate = ('reorder_rate','mean'),\n",
    "     mean_add_to_cart_mean = ('add_to_cart_mean','mean'),\n",
    "     mean_order_mean_dow = ('order_mean_dow','mean'),\n",
    "     mean_order_mean_hour_of_day = ('order_mean_hour_of_day','mean'),\n",
    "     mean_mean_day_gap_in_orders = ('mean_day_gap_in_orders','mean')\n",
    "     ))\n"
   ]
  },
  {
   "cell_type": "markdown",
   "metadata": {
    "_cell_guid": "72eca071-e723-403f-9f76-5ae0eb52fc21",
    "_execution_state": "idle",
    "_uuid": "f808be62bab98f32e16a461e470fca7085ed44ce",
    "id": "kG_ybHVSlDGr"
   },
   "source": [
    "We have four different clusters in our simpler Kmeans clustering model, each with notably different reorder rates and the number of products with the cluster.\n",
    "* There are 8 products within (***cluster 3***) that only get reordered 81% of the time.\n",
    "*Another cluster (***cluster 0***) with 123 products getting a high reorder rate of 68%.\n",
    "*Again, we have a midrange demand group (***cluster 2***) with 7946 products that get repeat orders 62% of the time \n",
    "*Finally a underperforming group ( ***cluster 1***) that gets only 33% reorders\n",
    "\n",
    "Also, notice that even after reducing the model to just 2 clusters, we could still create meaningful clusters that give us useful insights into the data. Hence, this model gives us the insights needed with the advantage of significantly reduced model complexity.\n",
    "\n",
    "This information might help Instacart formulate more useful product clusters for customer segmentation and market basket analysis."
   ]
  },
  {
   "cell_type": "markdown",
   "metadata": {
    "id": "AbhPqkDZXvId"
   },
   "source": [
    "\n",
    "\n",
    "---\n",
    "\n"
   ]
  },
  {
   "cell_type": "markdown",
   "metadata": {
    "id": "FUfsaGXivk7h"
   },
   "source": [
    "### Building Clustering Models - Part II\n",
    "#### **2. DBSCAN**\n",
    "\n",
    "Now that we have analyzed the clustering outputs using the K-Means algorithm, let's give DBSCAN algorithm a try to see if it could perform better.\n",
    "\n",
    "We will be using 2-dimensional data created earlier for this demo."
   ]
  },
  {
   "cell_type": "code",
   "execution_count": null,
   "metadata": {
    "id": "nIp11YGZlDG7"
   },
   "outputs": [],
   "source": [
    "#Scaling the variables and storing them in a new data frame to start afresh\n",
    "temp2_scaled = scaler.fit_transform(focussed_data[['num_orders', 'reorder_rate']])"
   ]
  },
  {
   "cell_type": "code",
   "execution_count": null,
   "metadata": {
    "colab": {
     "base_uri": "https://localhost:8080/",
     "height": 206
    },
    "id": "MiifNX4VlDG7",
    "outputId": "bec03529-4689-4a84-b786-a32273ffb666"
   },
   "outputs": [],
   "source": [
    "temp2_scaled = pd.DataFrame(temp2_scaled)\n",
    "temp2_scaled.columns = ['F1', 'F2']\n",
    "temp2_scaled.head()"
   ]
  },
  {
   "cell_type": "code",
   "execution_count": null,
   "metadata": {
    "id": "XwiNe9QvlDG8"
   },
   "outputs": [],
   "source": [
    "from sklearn.cluster import DBSCAN\n"
   ]
  },
  {
   "cell_type": "markdown",
   "metadata": {
    "id": "okp1wC2U60K-"
   },
   "source": [
    "Recall that just as we find an optimal value for *K* for the Kmeans algorithm, we have *epsilon* and the minimum number of data points *MinPts* parameters to initialize for the DBSCAN algorithm.\n",
    "\n",
    "Let's see how to find the optimal value for the eps(Epsilon) parameter for our use case:\n",
    "\n",
    "Assume a value for MinPts, which is the same as k for k-nearest neighbors determination for a given point.\n",
    "*   Step 1: Calculate the average of distances from a data point to its k nearest neighbors (kNN)\n",
    "*   Step 2: Plot the average kNN distances for the data points in ascending order\n",
    "* Step 3: Determine the focus point (elbow) with the highest curvature\n",
    "* Step 4: (If required) Zoom into that range to find the optimal value for the Epsilon\n",
    "\n",
    "Let's start with finding the optimal value for Epsilon first:\n",
    "\n"
   ]
  },
  {
   "cell_type": "markdown",
   "metadata": {
    "id": "btsJBRtMbs7j"
   },
   "source": [
    "#####Finding Optimal value for Epsilon"
   ]
  },
  {
   "cell_type": "markdown",
   "metadata": {
    "id": "ToWGzpud0Tpq"
   },
   "source": [
    "We need to find a value of epsilon; let's plot distances against data points."
   ]
  },
  {
   "cell_type": "code",
   "execution_count": null,
   "metadata": {
    "colab": {
     "base_uri": "https://localhost:8080/"
    },
    "id": "JmTNe8BP0TGW",
    "outputId": "a567dd66-5282-4266-d3eb-e5d657d322b1"
   },
   "outputs": [],
   "source": [
    "neigh = NearestNeighbors(n_neighbors=4)\n",
    "nbrs = neigh.fit(temp2_scaled)\n",
    "distances, indices = nbrs.kneighbors(temp2_scaled)\n",
    "print(np.shape(distances))\n",
    "neighbors = NearestNeighbors(n_neighbors=4)\n",
    "neighbors_fit = neighbors.fit(temp2_scaled)\n",
    "distances, indices = neighbors_fit.kneighbors(temp2_scaled)\n"
   ]
  },
  {
   "cell_type": "code",
   "execution_count": null,
   "metadata": {
    "colab": {
     "base_uri": "https://localhost:8080/",
     "height": 365
    },
    "id": "Icas5nBmrR6n",
    "outputId": "f04415c0-58a8-42fa-f15b-200e896c6948"
   },
   "outputs": [],
   "source": [
    "# Step 3: Sort distance values by ascending value and plot\n",
    "distances = np.sort(distances, axis=0)\n",
    "distances = distances[:,1]\n",
    "plt.plot(distances)"
   ]
  },
  {
   "cell_type": "code",
   "execution_count": null,
   "metadata": {
    "colab": {
     "base_uri": "https://localhost:8080/",
     "height": 423
    },
    "id": "NBsDXdH-tIdY",
    "outputId": "a8cd4bcc-db67-44a0-ec5a-acb7ea0ab552"
   },
   "outputs": [],
   "source": [
    "te1=pd.DataFrame(distances)\n",
    "te1"
   ]
  },
  {
   "cell_type": "code",
   "execution_count": null,
   "metadata": {
    "colab": {
     "base_uri": "https://localhost:8080/",
     "height": 361
    },
    "id": "rTYtm0Fo3aDp",
    "outputId": "c1fc3ef0-9851-48ad-b7ff-eefc13d48970"
   },
   "outputs": [],
   "source": [
    "distances = np.sort(distances, axis=0)\n",
    "#distances = distances[:,1]\n",
    "plt.plot(distances)\n",
    "plt.ylabel(\"Distance (Epsilon)\")\n",
    "plt.xlabel(\"Data points in ascending order of the distance\")\n",
    "plt.show()\n"
   ]
  },
  {
   "cell_type": "code",
   "execution_count": null,
   "metadata": {
    "colab": {
     "base_uri": "https://localhost:8080/",
     "height": 351
    },
    "id": "Xer1extW6Eas",
    "outputId": "11a08c02-8ba2-4704-9d3b-ec7478f4258f"
   },
   "outputs": [],
   "source": [
    "#Zooming into the area of interest\n",
    "plt.plot(distances)\n",
    "plt.xlim([13350,13380])\n",
    "#plt.xlim([13374,13380])\n",
    "plt.ylim([0,1])\n",
    "plt.show()\n"
   ]
  },
  {
   "cell_type": "markdown",
   "metadata": {
    "id": "TCc8apMPqcMg"
   },
   "source": [
    "As the plot above shows, there is an elbow point at a distance value of around 0.5, so we can take eps=0.5."
   ]
  },
  {
   "cell_type": "markdown",
   "metadata": {
    "id": "39i9Js_vM77O"
   },
   "source": [
    "##### Determining the MinPts value:\n",
    "There is no plotting method or an automatic indicator to find a value for the MinPts parameter. \n",
    "\n",
    "A general rule of thumb based on the research done in this area entails the following:\n",
    "\n",
    "*   Choose a large MinPts value if dataset has noise\n",
    "*   For larger datasets choose MinPts = 2*(number of dimensions) (Sander et al., 1998)\n",
    "* For 2D datasets, choose MinPts value = 4 (Ester et al., 1996)\n",
    "\n"
   ]
  },
  {
   "cell_type": "code",
   "execution_count": null,
   "metadata": {
    "id": "-Y93zFh_lDG8"
   },
   "outputs": [],
   "source": [
    "# Compute DBSCAN\n",
    "db = DBSCAN(eps=0.5, min_samples=4).fit(temp2_scaled)\n",
    "labels = db.labels_\n",
    "\n",
    "instacart_df['cluster_label_dbscan'] = db.labels_"
   ]
  },
  {
   "cell_type": "code",
   "execution_count": null,
   "metadata": {
    "colab": {
     "base_uri": "https://localhost:8080/"
    },
    "id": "tTgwjEEWlDG9",
    "outputId": "272cd401-35ec-46d8-e803-34d09833876b"
   },
   "outputs": [],
   "source": [
    "# Please note that the label -1 is designated for outliers and the rest of the labels are used for the clusters formed\n",
    "np.unique(labels, return_counts=True)"
   ]
  },
  {
   "cell_type": "code",
   "execution_count": null,
   "metadata": {
    "id": "KnHeze1llDG9"
   },
   "outputs": [],
   "source": [
    "# Building the label to colour mapping\n",
    "colours = {}\n",
    "colours[0] = 'r'\n",
    "colours[1] = 'g'\n",
    "#colours[2] = 'b'\n",
    "colours[-1] = 'k'\n",
    "  \n",
    "# Building the colour vector for each data point\n",
    "cvec = [colours[label] for label in labels]"
   ]
  },
  {
   "cell_type": "code",
   "execution_count": null,
   "metadata": {
    "colab": {
     "base_uri": "https://localhost:8080/",
     "height": 36
    },
    "id": "4CREbvxclDG-",
    "outputId": "85dae652-faaa-4e12-91a9-b503d5db873a"
   },
   "outputs": [],
   "source": [
    "r = plt.scatter(temp2_scaled['F1'], temp2_scaled['F2'], color ='r');\n",
    "g = plt.scatter(temp2_scaled['F1'], temp2_scaled['F2'], color ='g');\n",
    "#b = plt.scatter(temp2_scaled['F1'], temp2_scaled['F2'], color ='b');\n",
    "k = plt.scatter(temp2_scaled['F1'], temp2_scaled['F2'], color ='k');\n",
    "plt.clf()"
   ]
  },
  {
   "cell_type": "code",
   "execution_count": null,
   "metadata": {
    "colab": {
     "base_uri": "https://localhost:8080/",
     "height": 863
    },
    "id": "fcG3CfxxlDG-",
    "outputId": "d820a643-c34b-4c66-e816-3fade3420eb9"
   },
   "outputs": [],
   "source": [
    "plt.figure(figsize =(10, 15))\n",
    "plt.scatter(temp2_scaled['F1'], temp2_scaled['F2'], c = cvec)\n",
    "\n",
    "# plt.yscale(\"symlog\")\n",
    "\n",
    "# Building the legend\n",
    "plt.legend([r, g, k], ['Label 0', 'Label 1', 'Outliers'])\n",
    "  \n",
    "plt.show()\n",
    "\n",
    "# DBSCAN formed 2 clusters and identified outliers as well!"
   ]
  },
  {
   "cell_type": "code",
   "execution_count": null,
   "metadata": {
    "colab": {
     "base_uri": "https://localhost:8080/",
     "height": 175
    },
    "id": "2gRywznZY3gi",
    "outputId": "f56a680a-bc06-4945-ba1d-d0b8cba2a40d"
   },
   "outputs": [],
   "source": [
    "(instacart_df.groupby('cluster_label_dbscan')\n",
    ".agg(num_products_in_cluster = ('num_orders','count'),\n",
    "     mean_num_orders = ('num_orders','mean'),\n",
    "     mean_reorder_rate = ('reorder_rate','mean'),\n",
    "     ))"
   ]
  },
  {
   "cell_type": "code",
   "execution_count": null,
   "metadata": {
    "colab": {
     "base_uri": "https://localhost:8080/",
     "height": 206
    },
    "id": "v6HYeA9IZbJm",
    "outputId": "55e0df61-743a-492b-e7a9-a1949eb7a205"
   },
   "outputs": [],
   "source": [
    "#Comparing with Kmeans++ output\n",
    "(instacart_df.groupby('cluster_id_v2')\n",
    ".agg(num_products_in_cluster = ('num_orders','count'),\n",
    "     mean_num_orders = ('num_orders','mean'),\n",
    "     mean_reorder_rate = ('reorder_rate','mean')\n",
    "     ))"
   ]
  },
  {
   "cell_type": "markdown",
   "metadata": {
    "id": "DRLDod8FZOxN"
   },
   "source": [
    "Summarizing DBSCAN results <br>\n",
    "Compared to the KMeans algorithm, DBSCAN algorithm could perform fairly well.\n",
    "Using the two algorithm approach we were able to identify additional data points such as:\n",
    "\n",
    "\n",
    "*   Cluster 1 identified by DBSCAN has 68% reorder rate. This cluster also has more than 3600 average number of orders but only consists of 8 products. \n",
    "*   We also got another another cluster (clusters 0) which consists of the majority of the products with a relatively low mean number of orders at 84 and a medium reorder-rate of 51%. Based on the product IDs we could use this info to create a favorable superset that overlaps with K-Means cluster identification\n",
    "* Similarly low performing items could be identified to further refine the product list\n",
    "\n"
   ]
  },
  {
   "cell_type": "code",
   "execution_count": null,
   "metadata": {
    "id": "utTx96FXdmmd"
   },
   "outputs": [],
   "source": []
  }
 ],
 "metadata": {
  "colab": {
   "collapsed_sections": [],
   "name": "Clustering_notebook_UAZ_KMeans_DBSCAN.ipynb",
   "provenance": []
  },
  "kernelspec": {
   "display_name": "Python 3 (ipykernel)",
   "language": "python",
   "name": "python3"
  },
  "language_info": {
   "codemirror_mode": {
    "name": "ipython",
    "version": 3
   },
   "file_extension": ".py",
   "mimetype": "text/x-python",
   "name": "python",
   "nbconvert_exporter": "python",
   "pygments_lexer": "ipython3",
   "version": "3.9.7"
  }
 },
 "nbformat": 4,
 "nbformat_minor": 1
}
